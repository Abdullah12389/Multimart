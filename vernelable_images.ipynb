{
  "nbformat": 4,
  "nbformat_minor": 0,
  "metadata": {
    "colab": {
      "provenance": [],
      "mount_file_id": "17ycQUxtYWivDfc1RMSCovuuku5iP7XxT",
      "authorship_tag": "ABX9TyPi053H28XO+8DF0czuQ57+",
      "include_colab_link": true
    },
    "kernelspec": {
      "name": "python3",
      "display_name": "Python 3"
    },
    "language_info": {
      "name": "python"
    }
  },
  "cells": [
    {
      "cell_type": "markdown",
      "metadata": {
        "id": "view-in-github",
        "colab_type": "text"
      },
      "source": [
        "<a href=\"https://colab.research.google.com/github/Abdullah12389/Multimart/blob/main/vernelable_images.ipynb\" target=\"_parent\"><img src=\"https://colab.research.google.com/assets/colab-badge.svg\" alt=\"Open In Colab\"/></a>"
      ]
    },
    {
      "cell_type": "code",
      "execution_count": null,
      "metadata": {
        "id": "QjGhgX4LOnad"
      },
      "outputs": [],
      "source": [
        "import requests as re\n",
        "import numpy as np\n",
        "import pandas as pd\n",
        "from tqdm import tqdm"
      ]
    },
    {
      "cell_type": "code",
      "source": [
        "data=pd.DataFrame()\n",
        "for chunk in tqdm(pd.read_csv(\"/content/myntra202305041052.csv\",chunksize=1000,on_bad_lines='skip',nrows=20000)):\n",
        "  data=pd.concat([data,chunk])"
      ],
      "metadata": {
        "colab": {
          "base_uri": "https://localhost:8080/"
        },
        "id": "QM-EYaS8OrSc",
        "outputId": "b905777b-b3c7-4238-8aa8-c717343427af"
      },
      "execution_count": null,
      "outputs": [
        {
          "output_type": "stream",
          "name": "stderr",
          "text": [
            "20it [00:00, 41.48it/s]\n"
          ]
        }
      ]
    },
    {
      "cell_type": "code",
      "source": [
        "data=data.sample(2000)\n",
        "data=data.loc[:,'name':\"img\"]"
      ],
      "metadata": {
        "id": "-u4q4grPPFMp"
      },
      "execution_count": null,
      "outputs": []
    },
    {
      "cell_type": "code",
      "source": [
        "data=data.reset_index(drop=True)"
      ],
      "metadata": {
        "id": "UXdzDjIMToKl"
      },
      "execution_count": null,
      "outputs": []
    },
    {
      "cell_type": "code",
      "source": [
        "words=np.array([])\n",
        "for word in data[\"name\"]:\n",
        "  word=word.split()\n",
        "  words=np.append(words,word[-1])"
      ],
      "metadata": {
        "id": "qBWd4VZBRdNr"
      },
      "execution_count": null,
      "outputs": []
    },
    {
      "cell_type": "code",
      "source": [
        "dat=pd.concat([data.drop(columns=[\"name\"]),pd.DataFrame(words,columns=[\"label\"])],axis=1)"
      ],
      "metadata": {
        "id": "qauVKEDtT3Qb"
      },
      "execution_count": null,
      "outputs": []
    },
    {
      "cell_type": "code",
      "source": [
        "for i,word in enumerate(dat[\"label\"]):\n",
        "  if word.isdigit():\n",
        "    dat.drop(index=i,inplace=True)"
      ],
      "metadata": {
        "id": "lq5BiYOUVdKs"
      },
      "execution_count": null,
      "outputs": []
    },
    {
      "cell_type": "code",
      "source": [
        "condition=dat[\"label\"].value_counts()>30\n",
        "dat[\"label\"].value_counts()[condition]"
      ],
      "metadata": {
        "colab": {
          "base_uri": "https://localhost:8080/",
          "height": 523
        },
        "id": "YF_uFTORV_5t",
        "outputId": "be2f0e35-18c6-4800-b5cb-e56658a67a65"
      },
      "execution_count": null,
      "outputs": [
        {
          "output_type": "execute_result",
          "data": {
            "text/plain": [
              "label\n",
              "T-shirt     139\n",
              "Set         105\n",
              "Jeans        63\n",
              "Watch        61\n",
              "Backpack     59\n",
              "Dress        56\n",
              "ml           48\n",
              "suit         40\n",
              "Saree        39\n",
              "Trousers     38\n",
              "Covers       36\n",
              "Top          33\n",
              "Shorts       33\n",
              "Name: count, dtype: int64"
            ],
            "text/html": [
              "<div>\n",
              "<style scoped>\n",
              "    .dataframe tbody tr th:only-of-type {\n",
              "        vertical-align: middle;\n",
              "    }\n",
              "\n",
              "    .dataframe tbody tr th {\n",
              "        vertical-align: top;\n",
              "    }\n",
              "\n",
              "    .dataframe thead th {\n",
              "        text-align: right;\n",
              "    }\n",
              "</style>\n",
              "<table border=\"1\" class=\"dataframe\">\n",
              "  <thead>\n",
              "    <tr style=\"text-align: right;\">\n",
              "      <th></th>\n",
              "      <th>count</th>\n",
              "    </tr>\n",
              "    <tr>\n",
              "      <th>label</th>\n",
              "      <th></th>\n",
              "    </tr>\n",
              "  </thead>\n",
              "  <tbody>\n",
              "    <tr>\n",
              "      <th>T-shirt</th>\n",
              "      <td>139</td>\n",
              "    </tr>\n",
              "    <tr>\n",
              "      <th>Set</th>\n",
              "      <td>105</td>\n",
              "    </tr>\n",
              "    <tr>\n",
              "      <th>Jeans</th>\n",
              "      <td>63</td>\n",
              "    </tr>\n",
              "    <tr>\n",
              "      <th>Watch</th>\n",
              "      <td>61</td>\n",
              "    </tr>\n",
              "    <tr>\n",
              "      <th>Backpack</th>\n",
              "      <td>59</td>\n",
              "    </tr>\n",
              "    <tr>\n",
              "      <th>Dress</th>\n",
              "      <td>56</td>\n",
              "    </tr>\n",
              "    <tr>\n",
              "      <th>ml</th>\n",
              "      <td>48</td>\n",
              "    </tr>\n",
              "    <tr>\n",
              "      <th>suit</th>\n",
              "      <td>40</td>\n",
              "    </tr>\n",
              "    <tr>\n",
              "      <th>Saree</th>\n",
              "      <td>39</td>\n",
              "    </tr>\n",
              "    <tr>\n",
              "      <th>Trousers</th>\n",
              "      <td>38</td>\n",
              "    </tr>\n",
              "    <tr>\n",
              "      <th>Covers</th>\n",
              "      <td>36</td>\n",
              "    </tr>\n",
              "    <tr>\n",
              "      <th>Top</th>\n",
              "      <td>33</td>\n",
              "    </tr>\n",
              "    <tr>\n",
              "      <th>Shorts</th>\n",
              "      <td>33</td>\n",
              "    </tr>\n",
              "  </tbody>\n",
              "</table>\n",
              "</div><br><label><b>dtype:</b> int64</label>"
            ]
          },
          "metadata": {},
          "execution_count": 12
        }
      ]
    },
    {
      "cell_type": "code",
      "source": [
        "for i in data['name']:\n",
        "  if i.split()[-1]==\"ml\":\n",
        "    print(i)"
      ],
      "metadata": {
        "colab": {
          "base_uri": "https://localhost:8080/"
        },
        "id": "JixQmLrEWxUn",
        "outputId": "45934d5f-0901-42ff-ff44-cb85f9685676"
      },
      "execution_count": null,
      "outputs": [
        {
          "output_type": "stream",
          "name": "stdout",
          "text": [
            "Strobe Dewy Skin Tint 30 ml\n",
            "Cream Skin Refiner 150 ml\n",
            "Stretch Mark Oil 200 ml\n",
            "Bronze Body Perfume 120 ml\n",
            "Men Oud Extreme EDP - 100 ml\n",
            "Tranquil Body Wash 470 ml\n",
            "Green Tea Daylight Sustainable Sunscreen Gel 50 ml\n",
            "SPF 15 Body Lotion 200 ml\n",
            "Baby Daily Lotion - 400 ml\n",
            "Makeup Setting Spray - 60 ml\n",
            "Aloe Vera Gel 300 ml\n",
            "Unisex Sustainable Face Lotion 50 ml\n",
            "Men Dream Big EDT 100 ml\n",
            "Revitalift Night Cream 50 ml\n",
            "Handy 850 Water Bottle 780 ml\n",
            "Sustain Pure Rose Water 200 ml\n",
            "Men Intimately 150 ml\n",
            "Retinol Night Cream - 60 ml\n",
            "Men Deep Impact Roll-On 50 ml\n",
            "Men Silver Scent EDT 100 ml\n",
            "Nayaab Eau De Parfum - 100 ml\n",
            "Men Xpressio EDP 100 ml\n",
            "Women Eau de Toilette 30 ml\n",
            "Eladi Hydrating Cream 30 ml\n",
            "Men Raw Eau de Parfum 20 ml\n",
            "Men Classic Perfume - 100 ml\n",
            "Women Pure Musc EDP 50 ml\n",
            "Water Bottle 750 ml\n",
            "Women Eau de Parfum 100 ml\n",
            "Gentle Skin Cleanser - 125 ml\n",
            "Unisex Sustainable Face Lotion 50 ml\n",
            "Micellar Water 400 ml\n",
            "Shower Wash 200 ml\n",
            "Women Sheer EDP 20 ml\n",
            "Men Classic Blue EDT 90 ml\n",
            "Good Girl Eau de Parfum 50 ml\n",
            "Tales Malaga Perfume 100 ml\n",
            "18% HGA Hair Serum 30 ml\n",
            "Men Neo Body Spray 150 ml\n",
            "Lift & Firm Day Cream - 50 ml\n",
            "For Men Absolute EDP 100 ml\n",
            "Men Country Road EDP 100 ml\n",
            "Perfect 9 Repair Cream 60 ml\n",
            "Women Dark Desire EDP - 50 ml\n",
            "Women Celeste Deo 150 ml\n",
            "Women Fame EDP - 30 ml\n",
            "Handy 650 Water Bottle 690 ml\n",
            "Sun Protection SPF 50 Spray 100 ml\n"
          ]
        }
      ]
    },
    {
      "cell_type": "markdown",
      "source": [
        "#I am first downloading images for vernelable product detection"
      ],
      "metadata": {
        "id": "wp92JvGQZ105"
      }
    },
    {
      "cell_type": "code",
      "source": [
        "import os\n",
        "j=0\n",
        "folder=\"images\"\n",
        "for i in data['img'][0:500]:\n",
        "  response=re.get(i)\n",
        "  if response.status_code==200:\n",
        "    file=f\"image{j}.jpg\"\n",
        "    with open(f\"{folder}/{file}\",\"wb\") as f:\n",
        "      f.write(response.content)\n",
        "    j+=1\n",
        "    print(\"Success\")\n",
        "  else:\n",
        "     print(\"fail\")"
      ],
      "metadata": {
        "colab": {
          "base_uri": "https://localhost:8080/"
        },
        "id": "0CwtJ1s5XfCw",
        "outputId": "6b6aacb7-ce4a-4677-f562-3db1f0d1eb7d"
      },
      "execution_count": null,
      "outputs": [
        {
          "output_type": "stream",
          "name": "stdout",
          "text": [
            "Success\n",
            "fail\n",
            "Success\n",
            "Success\n",
            "Success\n",
            "Success\n",
            "Success\n",
            "Success\n",
            "Success\n",
            "Success\n",
            "Success\n",
            "Success\n",
            "Success\n",
            "Success\n",
            "Success\n",
            "Success\n",
            "Success\n",
            "Success\n",
            "Success\n",
            "Success\n",
            "Success\n",
            "Success\n",
            "Success\n",
            "Success\n",
            "Success\n",
            "Success\n",
            "Success\n",
            "Success\n",
            "Success\n",
            "Success\n",
            "Success\n",
            "Success\n",
            "Success\n",
            "Success\n",
            "Success\n",
            "Success\n",
            "Success\n",
            "Success\n",
            "Success\n",
            "Success\n",
            "Success\n",
            "Success\n",
            "Success\n",
            "Success\n",
            "Success\n",
            "Success\n",
            "Success\n",
            "Success\n",
            "Success\n",
            "Success\n",
            "Success\n",
            "Success\n",
            "Success\n",
            "Success\n",
            "Success\n",
            "Success\n",
            "Success\n",
            "Success\n",
            "Success\n",
            "Success\n",
            "Success\n",
            "Success\n",
            "Success\n",
            "Success\n",
            "Success\n",
            "Success\n",
            "Success\n",
            "Success\n",
            "Success\n",
            "Success\n",
            "Success\n",
            "Success\n",
            "Success\n",
            "Success\n",
            "Success\n",
            "Success\n",
            "Success\n",
            "Success\n",
            "Success\n",
            "Success\n",
            "Success\n",
            "Success\n",
            "Success\n",
            "Success\n",
            "Success\n",
            "Success\n",
            "Success\n",
            "Success\n",
            "Success\n",
            "Success\n",
            "Success\n",
            "Success\n",
            "Success\n",
            "Success\n",
            "Success\n",
            "Success\n",
            "Success\n",
            "Success\n",
            "Success\n",
            "Success\n",
            "Success\n",
            "Success\n",
            "Success\n",
            "Success\n",
            "Success\n",
            "Success\n",
            "Success\n",
            "Success\n",
            "Success\n",
            "Success\n",
            "Success\n",
            "Success\n",
            "Success\n",
            "Success\n",
            "Success\n",
            "Success\n",
            "Success\n",
            "Success\n",
            "Success\n",
            "Success\n",
            "Success\n",
            "Success\n",
            "Success\n",
            "Success\n",
            "Success\n",
            "Success\n",
            "Success\n",
            "Success\n",
            "Success\n",
            "Success\n",
            "Success\n",
            "Success\n",
            "Success\n",
            "Success\n",
            "Success\n",
            "Success\n",
            "Success\n",
            "Success\n",
            "Success\n",
            "Success\n",
            "Success\n",
            "Success\n",
            "Success\n",
            "Success\n",
            "Success\n",
            "Success\n",
            "Success\n",
            "Success\n",
            "Success\n",
            "Success\n",
            "Success\n",
            "Success\n",
            "Success\n",
            "Success\n",
            "Success\n",
            "Success\n",
            "Success\n",
            "Success\n",
            "Success\n",
            "Success\n",
            "Success\n",
            "Success\n",
            "Success\n",
            "Success\n",
            "Success\n",
            "Success\n",
            "Success\n",
            "Success\n",
            "Success\n",
            "Success\n",
            "Success\n",
            "Success\n",
            "Success\n",
            "Success\n",
            "Success\n",
            "Success\n",
            "Success\n",
            "Success\n",
            "Success\n",
            "Success\n",
            "Success\n",
            "Success\n",
            "Success\n",
            "Success\n",
            "Success\n",
            "Success\n",
            "Success\n",
            "Success\n",
            "Success\n",
            "Success\n",
            "Success\n",
            "Success\n",
            "Success\n",
            "Success\n",
            "Success\n",
            "Success\n",
            "Success\n",
            "Success\n",
            "Success\n",
            "Success\n",
            "Success\n",
            "Success\n",
            "Success\n",
            "Success\n",
            "Success\n",
            "Success\n",
            "Success\n",
            "Success\n",
            "Success\n",
            "Success\n",
            "Success\n",
            "Success\n",
            "Success\n",
            "Success\n",
            "Success\n",
            "Success\n",
            "Success\n",
            "Success\n",
            "Success\n",
            "Success\n",
            "Success\n",
            "Success\n",
            "Success\n",
            "Success\n",
            "Success\n",
            "Success\n",
            "Success\n",
            "Success\n",
            "Success\n",
            "Success\n",
            "Success\n",
            "Success\n",
            "Success\n",
            "Success\n",
            "Success\n",
            "Success\n",
            "Success\n",
            "Success\n",
            "Success\n",
            "Success\n",
            "Success\n",
            "Success\n",
            "Success\n",
            "Success\n",
            "Success\n",
            "Success\n",
            "Success\n",
            "Success\n",
            "Success\n",
            "Success\n",
            "Success\n",
            "Success\n",
            "Success\n",
            "Success\n",
            "Success\n",
            "Success\n",
            "Success\n",
            "Success\n",
            "Success\n",
            "Success\n",
            "Success\n",
            "Success\n",
            "Success\n",
            "Success\n",
            "Success\n",
            "Success\n",
            "Success\n",
            "Success\n",
            "Success\n",
            "Success\n",
            "Success\n",
            "Success\n",
            "Success\n",
            "Success\n",
            "Success\n",
            "Success\n",
            "Success\n",
            "Success\n",
            "Success\n",
            "Success\n",
            "Success\n",
            "Success\n",
            "Success\n",
            "Success\n",
            "Success\n",
            "Success\n",
            "Success\n",
            "Success\n",
            "Success\n",
            "Success\n",
            "Success\n",
            "Success\n",
            "Success\n",
            "Success\n",
            "Success\n",
            "Success\n",
            "Success\n",
            "Success\n",
            "Success\n",
            "Success\n",
            "Success\n",
            "Success\n",
            "Success\n",
            "Success\n",
            "Success\n",
            "Success\n",
            "Success\n",
            "Success\n",
            "Success\n",
            "Success\n",
            "Success\n",
            "Success\n",
            "Success\n",
            "Success\n",
            "Success\n",
            "Success\n",
            "Success\n",
            "Success\n",
            "Success\n",
            "Success\n",
            "Success\n",
            "Success\n",
            "Success\n",
            "Success\n",
            "Success\n",
            "Success\n",
            "Success\n",
            "Success\n",
            "Success\n",
            "Success\n",
            "Success\n",
            "Success\n",
            "Success\n",
            "Success\n",
            "Success\n",
            "Success\n",
            "Success\n",
            "Success\n",
            "Success\n",
            "Success\n",
            "Success\n",
            "Success\n",
            "Success\n",
            "Success\n",
            "Success\n",
            "Success\n",
            "Success\n",
            "Success\n",
            "Success\n",
            "Success\n",
            "Success\n",
            "Success\n",
            "Success\n",
            "Success\n",
            "Success\n",
            "Success\n",
            "Success\n",
            "Success\n",
            "Success\n",
            "Success\n",
            "Success\n",
            "Success\n",
            "Success\n",
            "Success\n",
            "Success\n",
            "Success\n",
            "Success\n",
            "Success\n",
            "Success\n",
            "Success\n",
            "Success\n",
            "Success\n",
            "Success\n",
            "Success\n",
            "Success\n",
            "Success\n",
            "Success\n",
            "Success\n",
            "Success\n",
            "Success\n",
            "Success\n",
            "Success\n",
            "Success\n",
            "Success\n",
            "Success\n",
            "Success\n",
            "Success\n",
            "Success\n",
            "Success\n",
            "Success\n",
            "Success\n",
            "Success\n",
            "Success\n",
            "Success\n",
            "Success\n",
            "Success\n",
            "Success\n",
            "Success\n",
            "Success\n",
            "Success\n",
            "Success\n",
            "Success\n",
            "Success\n",
            "Success\n",
            "Success\n",
            "Success\n",
            "Success\n",
            "Success\n",
            "Success\n",
            "Success\n",
            "Success\n",
            "Success\n",
            "Success\n",
            "Success\n",
            "Success\n",
            "Success\n",
            "Success\n",
            "Success\n",
            "Success\n",
            "Success\n",
            "Success\n",
            "Success\n",
            "Success\n",
            "Success\n",
            "Success\n",
            "Success\n",
            "Success\n",
            "Success\n",
            "Success\n",
            "Success\n",
            "Success\n",
            "Success\n",
            "Success\n",
            "Success\n",
            "Success\n",
            "Success\n",
            "Success\n",
            "Success\n",
            "Success\n",
            "Success\n",
            "Success\n",
            "Success\n",
            "Success\n",
            "Success\n",
            "Success\n",
            "Success\n",
            "Success\n",
            "Success\n",
            "Success\n",
            "Success\n",
            "Success\n",
            "Success\n",
            "Success\n",
            "Success\n",
            "Success\n",
            "Success\n",
            "Success\n",
            "Success\n",
            "Success\n",
            "Success\n",
            "Success\n",
            "Success\n",
            "Success\n",
            "Success\n",
            "Success\n",
            "Success\n",
            "Success\n",
            "Success\n",
            "Success\n",
            "Success\n",
            "Success\n",
            "Success\n",
            "Success\n",
            "Success\n",
            "Success\n",
            "Success\n",
            "Success\n",
            "Success\n",
            "Success\n",
            "Success\n",
            "Success\n",
            "Success\n",
            "Success\n",
            "Success\n",
            "Success\n",
            "Success\n",
            "Success\n",
            "Success\n",
            "Success\n",
            "Success\n",
            "Success\n",
            "Success\n",
            "Success\n",
            "Success\n",
            "Success\n",
            "Success\n",
            "Success\n",
            "Success\n",
            "Success\n",
            "Success\n"
          ]
        }
      ]
    },
    {
      "cell_type": "code",
      "source": [
        "file=os.path.join(folder,\"img1.jpg\")"
      ],
      "metadata": {
        "id": "xV_SeeSeZyOt"
      },
      "execution_count": null,
      "outputs": []
    },
    {
      "cell_type": "code",
      "source": [
        "path=data['img'][1]"
      ],
      "metadata": {
        "id": "0ROTdVwgbS7y"
      },
      "execution_count": null,
      "outputs": []
    },
    {
      "cell_type": "code",
      "source": [
        "response=re.get(path)\n",
        "with open(\"images/img1.jpg\",\"wb\") as f:\n",
        "  f.write(response.content)"
      ],
      "metadata": {
        "id": "WjU_Ug56fG44"
      },
      "execution_count": null,
      "outputs": []
    },
    {
      "cell_type": "markdown",
      "source": [
        "#Training"
      ],
      "metadata": {
        "id": "ktJEg1A-5LP7"
      }
    },
    {
      "cell_type": "code",
      "source": [
        "import tensorflow as tf\n",
        "from tensorflow.keras.preprocessing import image_dataset_from_directory\n",
        "from tensorflow.keras.models import Sequential\n",
        "from tensorflow.keras.layers import Flatten,Dense,Dropout,GlobalAveragePooling2D"
      ],
      "metadata": {
        "id": "TgGrCjNdfcJT"
      },
      "execution_count": null,
      "outputs": []
    },
    {
      "cell_type": "code",
      "source": [
        "train_ds=image_dataset_from_directory(\n",
        "    directory=\"/content/drive/MyDrive/data/train\",\n",
        "    labels=\"inferred\",\n",
        "    label_mode=\"int\",\n",
        "    batch_size=16,\n",
        "    image_size=(256,256),\n",
        "    shuffle=True\n",
        ")"
      ],
      "metadata": {
        "colab": {
          "base_uri": "https://localhost:8080/"
        },
        "id": "6Za-j7vh-EiM",
        "outputId": "9d5ea7b5-af09-431c-8433-a0b58d6d2d7b"
      },
      "execution_count": null,
      "outputs": [
        {
          "output_type": "stream",
          "name": "stdout",
          "text": [
            "Found 978 files belonging to 2 classes.\n"
          ]
        }
      ]
    },
    {
      "cell_type": "code",
      "source": [
        "val_ds=image_dataset_from_directory(\n",
        "    directory=\"/content/drive/MyDrive/data/test\",\n",
        "    labels=\"inferred\",\n",
        "    label_mode=\"int\",\n",
        "    batch_size=16,\n",
        "    image_size=(256,256),\n",
        "    shuffle=True\n",
        ")"
      ],
      "metadata": {
        "colab": {
          "base_uri": "https://localhost:8080/"
        },
        "id": "3wBxXHi--evJ",
        "outputId": "6ac18112-78dc-4c58-b242-2de626880bd2"
      },
      "execution_count": null,
      "outputs": [
        {
          "output_type": "stream",
          "name": "stdout",
          "text": [
            "Found 118 files belonging to 2 classes.\n"
          ]
        }
      ]
    },
    {
      "cell_type": "code",
      "source": [
        "def preprocess(img):\n",
        "  img=img/255.0\n",
        "  return img\n",
        "train_ds=train_ds.map(lambda x,y:(preprocess(x),y))\n",
        "val_ds=val_ds.map(lambda x,y:(preprocess(x),y))"
      ],
      "metadata": {
        "id": "GPRfF-bWF0U7"
      },
      "execution_count": null,
      "outputs": []
    },
    {
      "cell_type": "code",
      "source": [
        "from tensorflow.keras.applications import EfficientNetV2B3\n",
        "model=EfficientNetV2B3(include_top=False,\n",
        "                       weights=\"imagenet\",\n",
        "                       input_shape=(256,256,3),\n",
        "                       classes=2,\n",
        "                       include_preprocessing=False\n",
        ")"
      ],
      "metadata": {
        "colab": {
          "base_uri": "https://localhost:8080/"
        },
        "id": "BBptcJoQ8XqJ",
        "outputId": "f4bf4409-8487-4b32-a06c-037248ae7ace"
      },
      "execution_count": null,
      "outputs": [
        {
          "output_type": "stream",
          "name": "stdout",
          "text": [
            "Downloading data from https://storage.googleapis.com/tensorflow/keras-applications/efficientnet_v2/efficientnetv2-b3_notop.h5\n",
            "\u001b[1m52606240/52606240\u001b[0m \u001b[32m━━━━━━━━━━━━━━━━━━━━\u001b[0m\u001b[37m\u001b[0m \u001b[1m3s\u001b[0m 0us/step\n"
          ]
        }
      ]
    },
    {
      "cell_type": "code",
      "source": [
        "for i in model.layers:\n",
        "  i.trainable=False"
      ],
      "metadata": {
        "id": "L8vVpXUm934e"
      },
      "execution_count": null,
      "outputs": []
    },
    {
      "cell_type": "code",
      "source": [
        "x=GlobalAveragePooling2D()(model.output)\n",
        "x=Dense(512,activation=\"relu\")(x)\n",
        "x=Dropout(0.2)(x)\n",
        "x=Dense(256,activation=\"relu\")(x)\n",
        "x=Dropout(0.2)(x)\n",
        "x=Dense(1,activation=\"sigmoid\")(x)\n",
        "new_model=tf.keras.models.Model(inputs=model.input,outputs=x)"
      ],
      "metadata": {
        "id": "WpeT11WW89gJ"
      },
      "execution_count": null,
      "outputs": []
    },
    {
      "cell_type": "code",
      "source": [
        "new_model.compile(optimizer=\"adam\",loss=\"binary_crossentropy\",metrics=[\"accuracy\"])"
      ],
      "metadata": {
        "id": "_TTVR1Ho_I84"
      },
      "execution_count": null,
      "outputs": []
    },
    {
      "cell_type": "code",
      "source": [
        "history=new_model.fit(train_ds,validation_data=val_ds,epochs=10)"
      ],
      "metadata": {
        "id": "_Dtk_2UrA520",
        "colab": {
          "base_uri": "https://localhost:8080/"
        },
        "outputId": "cdc972ac-e10d-4ef8-99d1-3fb959a86728"
      },
      "execution_count": null,
      "outputs": [
        {
          "output_type": "stream",
          "name": "stdout",
          "text": [
            "Epoch 1/10\n",
            "\u001b[1m62/62\u001b[0m \u001b[32m━━━━━━━━━━━━━━━━━━━━\u001b[0m\u001b[37m\u001b[0m \u001b[1m617s\u001b[0m 9s/step - accuracy: 0.8978 - loss: 0.2139 - val_accuracy: 0.9831 - val_loss: 0.0734\n",
            "Epoch 2/10\n",
            "\u001b[1m62/62\u001b[0m \u001b[32m━━━━━━━━━━━━━━━━━━━━\u001b[0m\u001b[37m\u001b[0m \u001b[1m12s\u001b[0m 196ms/step - accuracy: 0.9914 - loss: 0.0169 - val_accuracy: 0.9915 - val_loss: 0.0482\n",
            "Epoch 3/10\n",
            "\u001b[1m62/62\u001b[0m \u001b[32m━━━━━━━━━━━━━━━━━━━━\u001b[0m\u001b[37m\u001b[0m \u001b[1m10s\u001b[0m 163ms/step - accuracy: 0.9774 - loss: 0.0607 - val_accuracy: 0.9915 - val_loss: 0.0468\n",
            "Epoch 4/10\n",
            "\u001b[1m62/62\u001b[0m \u001b[32m━━━━━━━━━━━━━━━━━━━━\u001b[0m\u001b[37m\u001b[0m \u001b[1m11s\u001b[0m 177ms/step - accuracy: 0.9821 - loss: 0.0552 - val_accuracy: 0.9915 - val_loss: 0.0635\n",
            "Epoch 5/10\n",
            "\u001b[1m62/62\u001b[0m \u001b[32m━━━━━━━━━━━━━━━━━━━━\u001b[0m\u001b[37m\u001b[0m \u001b[1m21s\u001b[0m 193ms/step - accuracy: 1.0000 - loss: 0.0017 - val_accuracy: 0.9915 - val_loss: 0.0715\n",
            "Epoch 6/10\n",
            "\u001b[1m62/62\u001b[0m \u001b[32m━━━━━━━━━━━━━━━━━━━━\u001b[0m\u001b[37m\u001b[0m \u001b[1m19s\u001b[0m 175ms/step - accuracy: 0.9992 - loss: 0.0044 - val_accuracy: 0.9746 - val_loss: 0.1265\n",
            "Epoch 7/10\n",
            "\u001b[1m62/62\u001b[0m \u001b[32m━━━━━━━━━━━━━━━━━━━━\u001b[0m\u001b[37m\u001b[0m \u001b[1m21s\u001b[0m 185ms/step - accuracy: 0.9954 - loss: 0.0057 - val_accuracy: 0.9915 - val_loss: 0.0827\n",
            "Epoch 8/10\n",
            "\u001b[1m62/62\u001b[0m \u001b[32m━━━━━━━━━━━━━━━━━━━━\u001b[0m\u001b[37m\u001b[0m \u001b[1m25s\u001b[0m 266ms/step - accuracy: 0.9993 - loss: 0.0031 - val_accuracy: 0.9915 - val_loss: 0.0847\n",
            "Epoch 9/10\n",
            "\u001b[1m62/62\u001b[0m \u001b[32m━━━━━━━━━━━━━━━━━━━━\u001b[0m\u001b[37m\u001b[0m \u001b[1m18s\u001b[0m 231ms/step - accuracy: 0.9926 - loss: 0.0159 - val_accuracy: 0.9746 - val_loss: 0.1127\n",
            "Epoch 10/10\n",
            "\u001b[1m62/62\u001b[0m \u001b[32m━━━━━━━━━━━━━━━━━━━━\u001b[0m\u001b[37m\u001b[0m \u001b[1m16s\u001b[0m 167ms/step - accuracy: 0.9973 - loss: 0.0085 - val_accuracy: 0.9915 - val_loss: 0.0566\n"
          ]
        }
      ]
    },
    {
      "cell_type": "code",
      "source": [
        "import matplotlib.pyplot as plt\n",
        "plt.plot(history.history['accuracy'])\n",
        "plt.plot(history.history['val_accuracy'])\n",
        "plt.title('Model accuracy')\n",
        "plt.ylabel('Accuracy')\n",
        "plt.xlabel('Epoch')\n",
        "plt.legend(['Train', 'Validation'], loc='upper left')"
      ],
      "metadata": {
        "colab": {
          "base_uri": "https://localhost:8080/",
          "height": 489
        },
        "id": "A0EXs6XR1fxK",
        "outputId": "ed147dda-df31-4714-dd97-6149cc02c341"
      },
      "execution_count": null,
      "outputs": [
        {
          "output_type": "execute_result",
          "data": {
            "text/plain": [
              "<matplotlib.legend.Legend at 0x7d132931f550>"
            ]
          },
          "metadata": {},
          "execution_count": 11
        },
        {
          "output_type": "display_data",
          "data": {
            "text/plain": [
              "<Figure size 640x480 with 1 Axes>"
            ],
            "image/png": "[encoded data removed]"
          },
          "metadata": {}
        }
      ]
    },
    {
      "cell_type": "code",
      "source": [
        "import pickle\n",
        "pickle.dump(new_model,open(\"vernelable_detect.pkl\",\"wb\"))"
      ],
      "metadata": {
        "id": "E6Cf7_5K6IPI"
      },
      "execution_count": null,
      "outputs": []
    },
    {
      "cell_type": "code",
      "source": [
        "pred=new_model.predict(val_ds)"
      ],
      "metadata": {
        "colab": {
          "base_uri": "https://localhost:8080/"
        },
        "id": "63OmrEZoM29N",
        "outputId": "d1e5f42d-4b31-42d2-8554-deb570669f44"
      },
      "execution_count": null,
      "outputs": [
        {
          "output_type": "stream",
          "name": "stdout",
          "text": [
            "\u001b[1m8/8\u001b[0m \u001b[32m━━━━━━━━━━━━━━━━━━━━\u001b[0m\u001b[37m\u001b[0m \u001b[1m1s\u001b[0m 125ms/step\n"
          ]
        }
      ]
    },
    {
      "cell_type": "code",
      "source": [],
      "metadata": {
        "id": "s9JjUxvITi2I"
      },
      "execution_count": null,
      "outputs": []
    },
    {
      "cell_type": "code",
      "source": [
        "image_path=\"https://www.google.com/url?sa=i&url=https%3A%2F%2Fwww.bloomberg.com%2Fnews%2Farticles%2F2023-08-09%2Fthe-legal-fight-over-ghost-guns-explained&psig=AOvVaw26_tsD-NtSVi70ZfxxMQ2i&ust=1737741260770000&source=images&cd=vfe&opi=89978449&ved=0CBQQjRxqFwoTCIisv-m0jIsDFQAAAAAdAAAAABAJ\"\n",
        "img=tf.keras.preprocessing.image.load_img(image_path,target_size=(256,256))"
      ],
      "metadata": {
        "colab": {
          "base_uri": "https://localhost:8080/",
          "height": 332
        },
        "id": "8wIy1z_iQgKb",
        "outputId": "ef244067-bf62-4709-dadb-5ccd94c90dbd"
      },
      "execution_count": null,
      "outputs": [
        {
          "output_type": "error",
          "ename": "FileNotFoundError",
          "evalue": "[Errno 2] No such file or directory: 'https://www.google.com/url?sa=i&url=https%3A%2F%2Fwww.bloomberg.com%2Fnews%2Farticles%2F2023-08-09%2Fthe-legal-fight-over-ghost-guns-explained&psig=AOvVaw26_tsD-NtSVi70ZfxxMQ2i&ust=1737741260770000&source=images&cd=vfe&opi=89978449&ved=0CBQQjRxqFwoTCIisv-m0jIsDFQAAAAAdAAAAABAJ'",
          "traceback": [
            "\u001b[0;31m---------------------------------------------------------------------------\u001b[0m",
            "\u001b[0;31mFileNotFoundError\u001b[0m                         Traceback (most recent call last)",
            "\u001b[0;32m<ipython-input-52-483a68aeb3e7>\u001b[0m in \u001b[0;36m<cell line: 0>\u001b[0;34m()\u001b[0m\n\u001b[1;32m      1\u001b[0m \u001b[0mimage_path\u001b[0m\u001b[0;34m=\u001b[0m\u001b[0;34m\"https://www.google.com/url?sa=i&url=https%3A%2F%2Fwww.bloomberg.com%2Fnews%2Farticles%2F2023-08-09%2Fthe-legal-fight-over-ghost-guns-explained&psig=AOvVaw26_tsD-NtSVi70ZfxxMQ2i&ust=1737741260770000&source=images&cd=vfe&opi=89978449&ved=0CBQQjRxqFwoTCIisv-m0jIsDFQAAAAAdAAAAABAJ\"\u001b[0m\u001b[0;34m\u001b[0m\u001b[0;34m\u001b[0m\u001b[0m\n\u001b[0;32m----> 2\u001b[0;31m \u001b[0mimg\u001b[0m\u001b[0;34m=\u001b[0m\u001b[0mtf\u001b[0m\u001b[0;34m.\u001b[0m\u001b[0mkeras\u001b[0m\u001b[0;34m.\u001b[0m\u001b[0mpreprocessing\u001b[0m\u001b[0;34m.\u001b[0m\u001b[0mimage\u001b[0m\u001b[0;34m.\u001b[0m\u001b[0mload_img\u001b[0m\u001b[0;34m(\u001b[0m\u001b[0mimage_path\u001b[0m\u001b[0;34m,\u001b[0m\u001b[0mtarget_size\u001b[0m\u001b[0;34m=\u001b[0m\u001b[0;34m(\u001b[0m\u001b[0;36m256\u001b[0m\u001b[0;34m,\u001b[0m\u001b[0;36m256\u001b[0m\u001b[0;34m)\u001b[0m\u001b[0;34m)\u001b[0m\u001b[0;34m\u001b[0m\u001b[0;34m\u001b[0m\u001b[0m\n\u001b[0m",
            "\u001b[0;32m/usr/local/lib/python3.11/dist-packages/keras/src/utils/image_utils.py\u001b[0m in \u001b[0;36mload_img\u001b[0;34m(path, color_mode, target_size, interpolation, keep_aspect_ratio)\u001b[0m\n\u001b[1;32m    233\u001b[0m         \u001b[0;32mif\u001b[0m \u001b[0misinstance\u001b[0m\u001b[0;34m(\u001b[0m\u001b[0mpath\u001b[0m\u001b[0;34m,\u001b[0m \u001b[0mpathlib\u001b[0m\u001b[0;34m.\u001b[0m\u001b[0mPath\u001b[0m\u001b[0;34m)\u001b[0m\u001b[0;34m:\u001b[0m\u001b[0;34m\u001b[0m\u001b[0;34m\u001b[0m\u001b[0m\n\u001b[1;32m    234\u001b[0m             \u001b[0mpath\u001b[0m \u001b[0;34m=\u001b[0m \u001b[0mstr\u001b[0m\u001b[0;34m(\u001b[0m\u001b[0mpath\u001b[0m\u001b[0;34m.\u001b[0m\u001b[0mresolve\u001b[0m\u001b[0;34m(\u001b[0m\u001b[0;34m)\u001b[0m\u001b[0;34m)\u001b[0m\u001b[0;34m\u001b[0m\u001b[0;34m\u001b[0m\u001b[0m\n\u001b[0;32m--> 235\u001b[0;31m         \u001b[0;32mwith\u001b[0m \u001b[0mopen\u001b[0m\u001b[0;34m(\u001b[0m\u001b[0mpath\u001b[0m\u001b[0;34m,\u001b[0m \u001b[0;34m\"rb\"\u001b[0m\u001b[0;34m)\u001b[0m \u001b[0;32mas\u001b[0m \u001b[0mf\u001b[0m\u001b[0;34m:\u001b[0m\u001b[0;34m\u001b[0m\u001b[0;34m\u001b[0m\u001b[0m\n\u001b[0m\u001b[1;32m    236\u001b[0m             \u001b[0mimg\u001b[0m \u001b[0;34m=\u001b[0m \u001b[0mpil_image\u001b[0m\u001b[0;34m.\u001b[0m\u001b[0mopen\u001b[0m\u001b[0;34m(\u001b[0m\u001b[0mio\u001b[0m\u001b[0;34m.\u001b[0m\u001b[0mBytesIO\u001b[0m\u001b[0;34m(\u001b[0m\u001b[0mf\u001b[0m\u001b[0;34m.\u001b[0m\u001b[0mread\u001b[0m\u001b[0;34m(\u001b[0m\u001b[0;34m)\u001b[0m\u001b[0;34m)\u001b[0m\u001b[0;34m)\u001b[0m\u001b[0;34m\u001b[0m\u001b[0;34m\u001b[0m\u001b[0m\n\u001b[1;32m    237\u001b[0m     \u001b[0;32melse\u001b[0m\u001b[0;34m:\u001b[0m\u001b[0;34m\u001b[0m\u001b[0;34m\u001b[0m\u001b[0m\n",
            "\u001b[0;31mFileNotFoundError\u001b[0m: [Errno 2] No such file or directory: 'https://www.google.com/url?sa=i&url=https%3A%2F%2Fwww.bloomberg.com%2Fnews%2Farticles%2F2023-08-09%2Fthe-legal-fight-over-ghost-guns-explained&psig=AOvVaw26_tsD-NtSVi70ZfxxMQ2i&ust=1737741260770000&source=images&cd=vfe&opi=89978449&ved=0CBQQjRxqFwoTCIisv-m0jIsDFQAAAAAdAAAAABAJ'"
          ]
        }
      ]
    },
    {
      "cell_type": "code",
      "source": [
        "img_array=tf.keras.preprocessing.image.img_to_array(img)"
      ],
      "metadata": {
        "id": "PrLGMplMNmtB"
      },
      "execution_count": null,
      "outputs": []
    },
    {
      "cell_type": "code",
      "source": [
        "img=img_array/255"
      ],
      "metadata": {
        "id": "jj6c0x2VPYE0"
      },
      "execution_count": null,
      "outputs": []
    },
    {
      "cell_type": "code",
      "source": [
        "img.shape"
      ],
      "metadata": {
        "colab": {
          "base_uri": "https://localhost:8080/"
        },
        "id": "Z3p0S_puS0OH",
        "outputId": "9d9cf6b0-cb33-487d-cf69-3828418da666"
      },
      "execution_count": null,
      "outputs": [
        {
          "output_type": "execute_result",
          "data": {
            "text/plain": [
              "(256, 256, 3)"
            ]
          },
          "metadata": {},
          "execution_count": 50
        }
      ]
    },
    {
      "cell_type": "code",
      "source": [
        "new_model.predict(img.reshape(1,256,256,3))"
      ],
      "metadata": {
        "colab": {
          "base_uri": "https://localhost:8080/"
        },
        "id": "6KWmB7rsRNOC",
        "outputId": "ec5be6c3-1260-4f34-8fd9-f4fac23ed5a2"
      },
      "execution_count": null,
      "outputs": [
        {
          "output_type": "stream",
          "name": "stdout",
          "text": [
            "\u001b[1m1/1\u001b[0m \u001b[32m━━━━━━━━━━━━━━━━━━━━\u001b[0m\u001b[37m\u001b[0m \u001b[1m0s\u001b[0m 28ms/step\n"
          ]
        },
        {
          "output_type": "execute_result",
          "data": {
            "text/plain": [
              "array([[1.0670433e-06]], dtype=float32)"
            ]
          },
          "metadata": {},
          "execution_count": 51
        }
      ]
    },
    {
      "cell_type": "code",
      "source": [
        "!python --version"
      ],
      "metadata": {
        "id": "zS_PF7OwS39r",
        "colab": {
          "base_uri": "https://localhost:8080/"
        },
        "outputId": "022633c6-7766-4e8a-fa54-1efe8c98de8d"
      },
      "execution_count": null,
      "outputs": [
        {
          "output_type": "stream",
          "name": "stdout",
          "text": [
            "Python 3.11.11\n"
          ]
        }
      ]
    },
    {
      "cell_type": "code",
      "source": [
        "import tensorflow\n",
        "import keras\n",
        "import numpy\n",
        "print(\"tensorflow==\",tensorflow.__version__)\n",
        "print(\"keras==\",keras.__version__)\n",
        "print(\"numpy==\",numpy.__version__)"
      ],
      "metadata": {
        "colab": {
          "base_uri": "https://localhost:8080/"
        },
        "id": "VTZBGrNpD5r0",
        "outputId": "f86a17bb-72e9-4fb4-8430-b56b90a468e9"
      },
      "execution_count": null,
      "outputs": [
        {
          "output_type": "stream",
          "name": "stdout",
          "text": [
            "tensorflow== 2.17.1\n",
            "keras== 3.5.0\n",
            "numpy== 1.26.4\n"
          ]
        }
      ]
    },
    {
      "cell_type": "code",
      "source": [],
      "metadata": {
        "id": "5eY3ELwnED6-"
      },
      "execution_count": null,
      "outputs": []
    }
  ]
}