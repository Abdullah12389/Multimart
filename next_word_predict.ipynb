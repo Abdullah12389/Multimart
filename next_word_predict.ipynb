{
  "nbformat": 4,
  "nbformat_minor": 0,
  "metadata": {
    "colab": {
      "provenance": [],
      "authorship_tag": "ABX9TyPgQjKenNNjRUoD46Rat8OX",
      "include_colab_link": true
    },
    "kernelspec": {
      "name": "python3",
      "display_name": "Python 3"
    },
    "language_info": {
      "name": "python"
    }
  },
  "cells": [
    {
      "cell_type": "markdown",
      "metadata": {
        "id": "view-in-github",
        "colab_type": "text"
      },
      "source": [
        "<a href=\"https://colab.research.google.com/github/Abdullah12389/Multimart/blob/main/next_word_predict.ipynb\" target=\"_parent\"><img src=\"https://colab.research.google.com/assets/colab-badge.svg\" alt=\"Open In Colab\"/></a>"
      ]
    },
    {
      "cell_type": "code",
      "source": [
        "!pip install tensorflow==2.13 onnx tf2onnx"
      ],
      "metadata": {
        "colab": {
          "base_uri": "https://localhost:8080/",
          "height": 1000
        },
        "id": "o5BcWNf4obgF",
        "outputId": "f5e13a5c-63b0-4f8e-a357-418915b6b56d"
      },
      "execution_count": null,
      "outputs": [
        {
          "output_type": "stream",
          "name": "stdout",
          "text": [
            "Collecting tensorflow==2.13\n",
            "  Downloading tensorflow-2.13.0-cp311-cp311-manylinux_2_17_x86_64.manylinux2014_x86_64.whl.metadata (3.4 kB)\n",
            "Collecting onnx\n",
            "  Downloading onnx-1.17.0-cp311-cp311-manylinux_2_17_x86_64.manylinux2014_x86_64.whl.metadata (16 kB)\n",
            "Collecting tf2onnx\n",
            "  Downloading tf2onnx-1.16.1-py3-none-any.whl.metadata (1.3 kB)\n",
            "Requirement already satisfied: absl-py>=1.0.0 in /usr/local/lib/python3.11/dist-packages (from tensorflow==2.13) (1.4.0)\n",
            "Requirement already satisfied: astunparse>=1.6.0 in /usr/local/lib/python3.11/dist-packages (from tensorflow==2.13) (1.6.3)\n",
            "Requirement already satisfied: flatbuffers>=23.1.21 in /usr/local/lib/python3.11/dist-packages (from tensorflow==2.13) (25.1.24)\n",
            "Collecting gast<=0.4.0,>=0.2.1 (from tensorflow==2.13)\n",
            "  Downloading gast-0.4.0-py3-none-any.whl.metadata (1.1 kB)\n",
            "Requirement already satisfied: google-pasta>=0.1.1 in /usr/local/lib/python3.11/dist-packages (from tensorflow==2.13) (0.2.0)\n",
            "Requirement already satisfied: grpcio<2.0,>=1.24.3 in /usr/local/lib/python3.11/dist-packages (from tensorflow==2.13) (1.70.0)\n",
            "Requirement already satisfied: h5py>=2.9.0 in /usr/local/lib/python3.11/dist-packages (from tensorflow==2.13) (3.12.1)\n",
            "Collecting keras<2.14,>=2.13.1 (from tensorflow==2.13)\n",
            "  Downloading keras-2.13.1-py3-none-any.whl.metadata (2.4 kB)\n",
            "Requirement already satisfied: libclang>=13.0.0 in /usr/local/lib/python3.11/dist-packages (from tensorflow==2.13) (18.1.1)\n",
            "Collecting numpy<=1.24.3,>=1.22 (from tensorflow==2.13)\n",
            "  Downloading numpy-1.24.3-cp311-cp311-manylinux_2_17_x86_64.manylinux2014_x86_64.whl.metadata (5.6 kB)\n",
            "Requirement already satisfied: opt-einsum>=2.3.2 in /usr/local/lib/python3.11/dist-packages (from tensorflow==2.13) (3.4.0)\n",
            "Requirement already satisfied: packaging in /usr/local/lib/python3.11/dist-packages (from tensorflow==2.13) (24.2)\n",
            "Requirement already satisfied: protobuf!=4.21.0,!=4.21.1,!=4.21.2,!=4.21.3,!=4.21.4,!=4.21.5,<5.0.0dev,>=3.20.3 in /usr/local/lib/python3.11/dist-packages (from tensorflow==2.13) (4.25.6)\n",
            "Requirement already satisfied: setuptools in /usr/local/lib/python3.11/dist-packages (from tensorflow==2.13) (75.1.0)\n",
            "Requirement already satisfied: six>=1.12.0 in /usr/local/lib/python3.11/dist-packages (from tensorflow==2.13) (1.17.0)\n",
            "Collecting tensorboard<2.14,>=2.13 (from tensorflow==2.13)\n",
            "  Downloading tensorboard-2.13.0-py3-none-any.whl.metadata (1.8 kB)\n",
            "Collecting tensorflow-estimator<2.14,>=2.13.0 (from tensorflow==2.13)\n",
            "  Downloading tensorflow_estimator-2.13.0-py2.py3-none-any.whl.metadata (1.3 kB)\n",
            "Requirement already satisfied: termcolor>=1.1.0 in /usr/local/lib/python3.11/dist-packages (from tensorflow==2.13) (2.5.0)\n",
            "Collecting typing-extensions<4.6.0,>=3.6.6 (from tensorflow==2.13)\n",
            "  Downloading typing_extensions-4.5.0-py3-none-any.whl.metadata (8.5 kB)\n",
            "Requirement already satisfied: wrapt>=1.11.0 in /usr/local/lib/python3.11/dist-packages (from tensorflow==2.13) (1.17.2)\n",
            "Requirement already satisfied: tensorflow-io-gcs-filesystem>=0.23.1 in /usr/local/lib/python3.11/dist-packages (from tensorflow==2.13) (0.37.1)\n",
            "Requirement already satisfied: requests in /usr/local/lib/python3.11/dist-packages (from tf2onnx) (2.32.3)\n",
            "Collecting protobuf!=4.21.0,!=4.21.1,!=4.21.2,!=4.21.3,!=4.21.4,!=4.21.5,<5.0.0dev,>=3.20.3 (from tensorflow==2.13)\n",
            "  Downloading protobuf-3.20.3-py2.py3-none-any.whl.metadata (720 bytes)\n",
            "Requirement already satisfied: wheel<1.0,>=0.23.0 in /usr/local/lib/python3.11/dist-packages (from astunparse>=1.6.0->tensorflow==2.13) (0.45.1)\n",
            "Requirement already satisfied: google-auth<3,>=1.6.3 in /usr/local/lib/python3.11/dist-packages (from tensorboard<2.14,>=2.13->tensorflow==2.13) (2.27.0)\n",
            "Collecting google-auth-oauthlib<1.1,>=0.5 (from tensorboard<2.14,>=2.13->tensorflow==2.13)\n",
            "  Downloading google_auth_oauthlib-1.0.0-py2.py3-none-any.whl.metadata (2.7 kB)\n",
            "Requirement already satisfied: markdown>=2.6.8 in /usr/local/lib/python3.11/dist-packages (from tensorboard<2.14,>=2.13->tensorflow==2.13) (3.7)\n",
            "Requirement already satisfied: tensorboard-data-server<0.8.0,>=0.7.0 in /usr/local/lib/python3.11/dist-packages (from tensorboard<2.14,>=2.13->tensorflow==2.13) (0.7.2)\n",
            "Requirement already satisfied: werkzeug>=1.0.1 in /usr/local/lib/python3.11/dist-packages (from tensorboard<2.14,>=2.13->tensorflow==2.13) (3.1.3)\n",
            "Requirement already satisfied: charset-normalizer<4,>=2 in /usr/local/lib/python3.11/dist-packages (from requests->tf2onnx) (3.4.1)\n",
            "Requirement already satisfied: idna<4,>=2.5 in /usr/local/lib/python3.11/dist-packages (from requests->tf2onnx) (3.10)\n",
            "Requirement already satisfied: urllib3<3,>=1.21.1 in /usr/local/lib/python3.11/dist-packages (from requests->tf2onnx) (2.3.0)\n",
            "Requirement already satisfied: certifi>=2017.4.17 in /usr/local/lib/python3.11/dist-packages (from requests->tf2onnx) (2024.12.14)\n",
            "Requirement already satisfied: cachetools<6.0,>=2.0.0 in /usr/local/lib/python3.11/dist-packages (from google-auth<3,>=1.6.3->tensorboard<2.14,>=2.13->tensorflow==2.13) (5.5.1)\n",
            "Requirement already satisfied: pyasn1-modules>=0.2.1 in /usr/local/lib/python3.11/dist-packages (from google-auth<3,>=1.6.3->tensorboard<2.14,>=2.13->tensorflow==2.13) (0.4.1)\n",
            "Requirement already satisfied: rsa<5,>=3.1.4 in /usr/local/lib/python3.11/dist-packages (from google-auth<3,>=1.6.3->tensorboard<2.14,>=2.13->tensorflow==2.13) (4.9)\n",
            "Requirement already satisfied: requests-oauthlib>=0.7.0 in /usr/local/lib/python3.11/dist-packages (from google-auth-oauthlib<1.1,>=0.5->tensorboard<2.14,>=2.13->tensorflow==2.13) (1.3.1)\n",
            "Requirement already satisfied: MarkupSafe>=2.1.1 in /usr/local/lib/python3.11/dist-packages (from werkzeug>=1.0.1->tensorboard<2.14,>=2.13->tensorflow==2.13) (3.0.2)\n",
            "Requirement already satisfied: pyasn1<0.7.0,>=0.4.6 in /usr/local/lib/python3.11/dist-packages (from pyasn1-modules>=0.2.1->google-auth<3,>=1.6.3->tensorboard<2.14,>=2.13->tensorflow==2.13) (0.6.1)\n",
            "Requirement already satisfied: oauthlib>=3.0.0 in /usr/local/lib/python3.11/dist-packages (from requests-oauthlib>=0.7.0->google-auth-oauthlib<1.1,>=0.5->tensorboard<2.14,>=2.13->tensorflow==2.13) (3.2.2)\n",
            "Downloading tensorflow-2.13.0-cp311-cp311-manylinux_2_17_x86_64.manylinux2014_x86_64.whl (524.2 MB)\n",
            "\u001b[2K   \u001b[90m━━━━━━━━━━━━━━━━━━━━━━━━━━━━━━━━━━━━━━━━\u001b[0m \u001b[32m524.2/524.2 MB\u001b[0m \u001b[31m3.5 MB/s\u001b[0m eta \u001b[36m0:00:00\u001b[0m\n",
            "\u001b[?25hDownloading onnx-1.17.0-cp311-cp311-manylinux_2_17_x86_64.manylinux2014_x86_64.whl (16.0 MB)\n",
            "\u001b[2K   \u001b[90m━━━━━━━━━━━━━━━━━━━━━━━━━━━━━━━━━━━━━━━━\u001b[0m \u001b[32m16.0/16.0 MB\u001b[0m \u001b[31m79.1 MB/s\u001b[0m eta \u001b[36m0:00:00\u001b[0m\n",
            "\u001b[?25hDownloading tf2onnx-1.16.1-py3-none-any.whl (455 kB)\n",
            "\u001b[2K   \u001b[90m━━━━━━━━━━━━━━━━━━━━━━━━━━━━━━━━━━━━━━━━\u001b[0m \u001b[32m455.8/455.8 kB\u001b[0m \u001b[31m25.8 MB/s\u001b[0m eta \u001b[36m0:00:00\u001b[0m\n",
            "\u001b[?25hDownloading gast-0.4.0-py3-none-any.whl (9.8 kB)\n",
            "Downloading keras-2.13.1-py3-none-any.whl (1.7 MB)\n",
            "\u001b[2K   \u001b[90m━━━━━━━━━━━━━━━━━━━━━━━━━━━━━━━━━━━━━━━━\u001b[0m \u001b[32m1.7/1.7 MB\u001b[0m \u001b[31m57.5 MB/s\u001b[0m eta \u001b[36m0:00:00\u001b[0m\n",
            "\u001b[?25hDownloading numpy-1.24.3-cp311-cp311-manylinux_2_17_x86_64.manylinux2014_x86_64.whl (17.3 MB)\n",
            "\u001b[2K   \u001b[90m━━━━━━━━━━━━━━━━━━━━━━━━━━━━━━━━━━━━━━━━\u001b[0m \u001b[32m17.3/17.3 MB\u001b[0m \u001b[31m79.8 MB/s\u001b[0m eta \u001b[36m0:00:00\u001b[0m\n",
            "\u001b[?25hDownloading protobuf-3.20.3-py2.py3-none-any.whl (162 kB)\n",
            "\u001b[2K   \u001b[90m━━━━━━━━━━━━━━━━━━━━━━━━━━━━━━━━━━━━━━━━\u001b[0m \u001b[32m162.1/162.1 kB\u001b[0m \u001b[31m10.0 MB/s\u001b[0m eta \u001b[36m0:00:00\u001b[0m\n",
            "\u001b[?25hDownloading tensorboard-2.13.0-py3-none-any.whl (5.6 MB)\n",
            "\u001b[2K   \u001b[90m━━━━━━━━━━━━━━━━━━━━━━━━━━━━━━━━━━━━━━━━\u001b[0m \u001b[32m5.6/5.6 MB\u001b[0m \u001b[31m83.0 MB/s\u001b[0m eta \u001b[36m0:00:00\u001b[0m\n",
            "\u001b[?25hDownloading tensorflow_estimator-2.13.0-py2.py3-none-any.whl (440 kB)\n",
            "\u001b[2K   \u001b[90m━━━━━━━━━━━━━━━━━━━━━━━━━━━━━━━━━━━━━━━━\u001b[0m \u001b[32m440.8/440.8 kB\u001b[0m \u001b[31m20.5 MB/s\u001b[0m eta \u001b[36m0:00:00\u001b[0m\n",
            "\u001b[?25hDownloading typing_extensions-4.5.0-py3-none-any.whl (27 kB)\n",
            "Downloading google_auth_oauthlib-1.0.0-py2.py3-none-any.whl (18 kB)\n",
            "Installing collected packages: typing-extensions, tensorflow-estimator, protobuf, numpy, keras, gast, onnx, tf2onnx, google-auth-oauthlib, tensorboard, tensorflow\n",
            "  Attempting uninstall: typing-extensions\n",
            "    Found existing installation: typing_extensions 4.12.2\n",
            "    Uninstalling typing_extensions-4.12.2:\n",
            "      Successfully uninstalled typing_extensions-4.12.2\n",
            "  Attempting uninstall: protobuf\n",
            "    Found existing installation: protobuf 4.25.6\n",
            "    Uninstalling protobuf-4.25.6:\n",
            "      Successfully uninstalled protobuf-4.25.6\n",
            "  Attempting uninstall: numpy\n",
            "    Found existing installation: numpy 1.26.4\n",
            "    Uninstalling numpy-1.26.4:\n",
            "      Successfully uninstalled numpy-1.26.4\n",
            "  Attempting uninstall: keras\n",
            "    Found existing installation: keras 3.8.0\n",
            "    Uninstalling keras-3.8.0:\n",
            "      Successfully uninstalled keras-3.8.0\n",
            "  Attempting uninstall: gast\n",
            "    Found existing installation: gast 0.6.0\n",
            "    Uninstalling gast-0.6.0:\n",
            "      Successfully uninstalled gast-0.6.0\n",
            "  Attempting uninstall: google-auth-oauthlib\n",
            "    Found existing installation: google-auth-oauthlib 1.2.1\n",
            "    Uninstalling google-auth-oauthlib-1.2.1:\n",
            "      Successfully uninstalled google-auth-oauthlib-1.2.1\n",
            "  Attempting uninstall: tensorboard\n",
            "    Found existing installation: tensorboard 2.18.0\n",
            "    Uninstalling tensorboard-2.18.0:\n",
            "      Successfully uninstalled tensorboard-2.18.0\n",
            "  Attempting uninstall: tensorflow\n",
            "    Found existing installation: tensorflow 2.18.0\n",
            "    Uninstalling tensorflow-2.18.0:\n",
            "      Successfully uninstalled tensorflow-2.18.0\n",
            "\u001b[31mERROR: pip's dependency resolver does not currently take into account all the packages that are installed. This behaviour is the source of the following dependency conflicts.\n",
            "pydantic-core 2.27.2 requires typing-extensions!=4.7.0,>=4.6.0, but you have typing-extensions 4.5.0 which is incompatible.\n",
            "sqlalchemy 2.0.37 requires typing-extensions>=4.6.0, but you have typing-extensions 4.5.0 which is incompatible.\n",
            "torch 2.5.1+cu124 requires nvidia-cublas-cu12==12.4.5.8; platform_system == \"Linux\" and platform_machine == \"x86_64\", but you have nvidia-cublas-cu12 12.5.3.2 which is incompatible.\n",
            "torch 2.5.1+cu124 requires nvidia-cuda-cupti-cu12==12.4.127; platform_system == \"Linux\" and platform_machine == \"x86_64\", but you have nvidia-cuda-cupti-cu12 12.5.82 which is incompatible.\n",
            "torch 2.5.1+cu124 requires nvidia-cuda-nvrtc-cu12==12.4.127; platform_system == \"Linux\" and platform_machine == \"x86_64\", but you have nvidia-cuda-nvrtc-cu12 12.5.82 which is incompatible.\n",
            "torch 2.5.1+cu124 requires nvidia-cuda-runtime-cu12==12.4.127; platform_system == \"Linux\" and platform_machine == \"x86_64\", but you have nvidia-cuda-runtime-cu12 12.5.82 which is incompatible.\n",
            "torch 2.5.1+cu124 requires nvidia-cudnn-cu12==9.1.0.70; platform_system == \"Linux\" and platform_machine == \"x86_64\", but you have nvidia-cudnn-cu12 9.3.0.75 which is incompatible.\n",
            "torch 2.5.1+cu124 requires nvidia-cufft-cu12==11.2.1.3; platform_system == \"Linux\" and platform_machine == \"x86_64\", but you have nvidia-cufft-cu12 11.2.3.61 which is incompatible.\n",
            "torch 2.5.1+cu124 requires nvidia-curand-cu12==10.3.5.147; platform_system == \"Linux\" and platform_machine == \"x86_64\", but you have nvidia-curand-cu12 10.3.6.82 which is incompatible.\n",
            "torch 2.5.1+cu124 requires nvidia-cusolver-cu12==11.6.1.9; platform_system == \"Linux\" and platform_machine == \"x86_64\", but you have nvidia-cusolver-cu12 11.6.3.83 which is incompatible.\n",
            "torch 2.5.1+cu124 requires nvidia-cusparse-cu12==12.3.1.170; platform_system == \"Linux\" and platform_machine == \"x86_64\", but you have nvidia-cusparse-cu12 12.5.1.3 which is incompatible.\n",
            "torch 2.5.1+cu124 requires nvidia-nvjitlink-cu12==12.4.127; platform_system == \"Linux\" and platform_machine == \"x86_64\", but you have nvidia-nvjitlink-cu12 12.5.82 which is incompatible.\n",
            "torch 2.5.1+cu124 requires typing-extensions>=4.8.0, but you have typing-extensions 4.5.0 which is incompatible.\n",
            "albumentations 1.4.20 requires numpy>=1.24.4, but you have numpy 1.24.3 which is incompatible.\n",
            "typeguard 4.4.1 requires typing-extensions>=4.10.0, but you have typing-extensions 4.5.0 which is incompatible.\n",
            "albucore 0.0.19 requires numpy>=1.24.4, but you have numpy 1.24.3 which is incompatible.\n",
            "blosc2 3.0.0 requires numpy>=1.25.0, but you have numpy 1.24.3 which is incompatible.\n",
            "tensorflow-text 2.18.1 requires tensorflow<2.19,>=2.18.0, but you have tensorflow 2.13.0 which is incompatible.\n",
            "tf-keras 2.18.0 requires tensorflow<2.19,>=2.18, but you have tensorflow 2.13.0 which is incompatible.\n",
            "pydantic 2.10.6 requires typing-extensions>=4.12.2, but you have typing-extensions 4.5.0 which is incompatible.\n",
            "altair 5.5.0 requires typing-extensions>=4.10.0; python_version < \"3.14\", but you have typing-extensions 4.5.0 which is incompatible.\n",
            "grpcio-status 1.62.3 requires protobuf>=4.21.6, but you have protobuf 3.20.3 which is incompatible.\n",
            "langchain-core 0.3.32 requires typing-extensions>=4.7, but you have typing-extensions 4.5.0 which is incompatible.\n",
            "nibabel 5.3.2 requires typing-extensions>=4.6; python_version < \"3.13\", but you have typing-extensions 4.5.0 which is incompatible.\n",
            "tensorflow-metadata 1.16.1 requires protobuf<6.0.0dev,>=4.25.2; python_version >= \"3.11\", but you have protobuf 3.20.3 which is incompatible.\n",
            "openai 1.59.9 requires typing-extensions<5,>=4.11, but you have typing-extensions 4.5.0 which is incompatible.\n",
            "pymc 5.19.1 requires numpy>=1.25.0, but you have numpy 1.24.3 which is incompatible.\u001b[0m\u001b[31m\n",
            "\u001b[0mSuccessfully installed gast-0.4.0 google-auth-oauthlib-1.0.0 keras-2.13.1 numpy-1.24.3 onnx-1.17.0 protobuf-3.20.3 tensorboard-2.13.0 tensorflow-2.13.0 tensorflow-estimator-2.13.0 tf2onnx-1.16.1 typing-extensions-4.5.0\n"
          ]
        },
        {
          "output_type": "display_data",
          "data": {
            "application/vnd.colab-display-data+json": {
              "pip_warning": {
                "packages": [
                  "google",
                  "numpy"
                ]
              },
              "id": "66840ed78097472fa9b285174dfa7773"
            }
          },
          "metadata": {}
        }
      ]
    },
    {
      "cell_type": "code",
      "execution_count": null,
      "metadata": {
        "id": "8refF4bV0AvQ"
      },
      "outputs": [],
      "source": [
        "corpus = \"\"\"The Samsung Galaxy S24 Ultra is priced at ₨ 359,999 in Pakistan.\\n\n",
        "The latest Apple iPhone 15 Pro Max (256GB) costs ₨ 414,999.\\n\n",
        "Dell XPS 15 Laptop with an RTX 4060 GPU is available for ₨ 415,000.\\n\n",
        "A Sony PlayStation 5 Console is selling for ₨ 189,999.\\n\n",
        "The Google Pixel 8 Pro (128GB) is priced at ₨ 198,000.\\n\n",
        "Apple MacBook Pro M2 (512GB) costs ₨ 485,000 in online stores.\\n\n",
        "DJI Mini 3 Pro Drone is available for ₨ 225,000 in Pakistan.\\n\n",
        "The Samsung 55\" QLED 4K Smart TV is listed at ₨ 289,999.\\n\n",
        "Bose QuietComfort 45 Noise-Canceling Headphones cost ₨ 78,000.\\n\n",
        "A Logitech G502 HERO Gaming Mouse is available for ₨ 17,500.\\n\n",
        "L'Oréal Paris Revitalift Night Cream costs ₨ 5,200.\\n\n",
        "A Maybelline SuperStay Matte Lipstick is priced at ₨ 1,850.\\n\n",
        "Dior Sauvage Eau de Parfum (100ml) is available for ₨ 32,999.\\n\n",
        "The MAC Studio Fix Foundation costs ₨ 9,500 in Pakistan.\\n\n",
        "Huda Beauty Nude Eyeshadow Palette is listed at ₨ 14,500.\\n\n",
        "The Ordinary Niacinamide 10% + Zinc 1% Serum is available for ₨ 3,499.\\n\n",
        "A Revlon One-Step Hair Dryer & Volumizer costs ₨ 10,000.\\n\n",
        "Fenty Beauty Pro Filt’r Soft Matte Foundation is priced at ₨ 12,999.\\n\n",
        "The Neutrogena Hydro Boost Water Gel Moisturizer costs ₨ 4,200.\\n\n",
        "A Chanel Coco Mademoiselle Perfume (50ml) is available for ₨ 26,000.\\n\n",
        "Nike Mercurial Vapor 14 Elite Football Boot is priced at ₨ 28,999.\\n\n",
        "The Adidas Predator Edge.1 Football Shoes cost ₨ 25,500.\\n\n",
        "Yonex Astrox 88D Pro Badminton Racket is available for ₨ 32,000.\\n\n",
        "Spalding NBA Leather Basketball costs ₨ 9,500.\\n\n",
        "Decathlon Treadmill (Model 2024) is priced at ₨ 165,000.\\n\n",
        "A Wilson Pro Staff RF97 Tennis Racket is available for ₨ 45,000.\\n\n",
        "The Fitbit Versa 4 Smartwatch is priced at ₨ 39,500.\\n\n",
        "Under Armour Compression Tights cost ₨ 8,200.\\n\n",
        "Puma Running Shoes (Men's) are listed at ₨ 12,500.\\n\n",
        "Everlast Leather Punching Bag (4ft) is available for ₨ 18,000.\\n\n",
        "Corsair K70 RGB Mechanical Gaming Keyboard costs ₨ 38,000.\\n\n",
        "Razer DeathAdder V2 Gaming Mouse is priced at ₨ 16,999.\\n\n",
        "The MSI GeForce RTX 4080 GPU costs ₨ 525,000.\\n\n",
        "Samsung 970 EVO Plus 1TB NVMe SSD is available for ₨ 24,999.\\n\n",
        "A Dell 24\" Ultrasharp Monitor is priced at ₨ 52,000.\\n\n",
        "HyperX Cloud II Wireless Gaming Headset costs ₨ 28,500.\\n\n",
        "ASUS ROG Strix Z790 Gaming Motherboard is listed at ₨ 92,000.\\n\n",
        "A Logitech C922 Pro HD Webcam costs ₨ 22,000.\\n\n",
        "Seagate 2TB External Hard Drive is available for ₨ 16,500.\\n\n",
        "Anker PowerCore 20,000mAh Power Bank is priced at ₨ 7,500.\\n\n",
        "Dawlance 1.5 Ton Inverter AC costs ₨ 189,000.\\n\n",
        "Philips Air Fryer XL (4.1L) is available for ₨ 32,000.\\n\n",
        "Samsung 20 Cu Ft Side-by-Side Refrigerator is listed at ₨ 399,999.\\n\n",
        "A Kenwood 10kg Front Load Washing Machine costs ₨ 89,500.\\n\n",
        "Panasonic Microwave Oven (25L) is priced at ₨ 22,500.\\n\n",
        "TCL 40\" Android Smart TV is available for ₨ 59,999.\\n\n",
        "Moulinex Juicer Machine (700W) costs ₨ 18,000.\\n\n",
        "A Dyson V12 Cordless Vacuum Cleaner is listed at ₨ 145,000.\\n\n",
        "Orient Water Dispenser (2-Tap) is priced at ₨ 24,999.\\n\n",
        "Bosch Automatic Coffee Machine is available for ₨ 110,000.\\n\n",
        "A Rolex Submariner Watch costs ₨ 3,500,000.\\n\n",
        "Ray-Ban Aviator Sunglasses are available for ₨ 18,999.\\n\n",
        "Montblanc Leather Wallet is priced at ₨ 16,500.\\n\n",
        "Fossil Gen 6 Smartwatch costs ₨ 44,500.\\n\n",
        "A Gucci GG Marmont Shoulder Bag is listed at ₨ 625,000.\\n\n",
        "Patek Philippe Nautilus Watch costs ₨ 10,500,000.\\n\n",
        "Nike Air Jordan 1 Retro Sneakers are available for ₨ 45,000.\\n\n",
        "Zara Men’s Slim Fit Suit is priced at ₨ 32,000.\\n\n",
        "Levi’s 501 Classic Jeans cost ₨ 8,500.\\n\n",
        "Tissot PRX Automatic Watch is available for ₨ 170,000.\"\"\""
      ]
    },
    {
      "cell_type": "code",
      "source": [
        "from tensorflow.keras.preprocessing.text import Tokenizer\n",
        "from tensorflow.keras.preprocessing.sequence import pad_sequences"
      ],
      "metadata": {
        "id": "SRxCpkYh2I7g"
      },
      "execution_count": null,
      "outputs": []
    },
    {
      "cell_type": "code",
      "source": [
        "corpus=corpus.lower()"
      ],
      "metadata": {
        "id": "C34_ab0y27jy"
      },
      "execution_count": null,
      "outputs": []
    },
    {
      "cell_type": "code",
      "source": [
        "corpus=corpus.split(\"\\n\\n\")"
      ],
      "metadata": {
        "id": "X9fBBASd3X-y"
      },
      "execution_count": null,
      "outputs": []
    },
    {
      "cell_type": "code",
      "source": [
        "tokenizer=Tokenizer()"
      ],
      "metadata": {
        "id": "f1r_uPrD4R3P"
      },
      "execution_count": null,
      "outputs": []
    },
    {
      "cell_type": "code",
      "source": [
        "tokenizer.fit_on_texts(corpus)"
      ],
      "metadata": {
        "id": "ITDPMyFx3p3W"
      },
      "execution_count": null,
      "outputs": []
    },
    {
      "cell_type": "code",
      "source": [
        "seq=tokenizer.texts_to_sequences(corpus)"
      ],
      "metadata": {
        "id": "ESmjqr3g4mut"
      },
      "execution_count": null,
      "outputs": []
    },
    {
      "cell_type": "code",
      "source": [
        "sequences=[]\n",
        "for j in range(len(seq)):\n",
        "  for i in range(len(seq[j])-1):\n",
        "    sequences.append(seq[j][:i+2])"
      ],
      "metadata": {
        "id": "WU5upq144o-b"
      },
      "execution_count": null,
      "outputs": []
    },
    {
      "cell_type": "code",
      "source": [
        "max([len(sent) for sent in sequences])"
      ],
      "metadata": {
        "colab": {
          "base_uri": "https://localhost:8080/"
        },
        "id": "innppyH845KQ",
        "outputId": "541bc346-ea4c-4a74-93d2-aa624feece04"
      },
      "execution_count": null,
      "outputs": [
        {
          "output_type": "execute_result",
          "data": {
            "text/plain": [
              "15"
            ]
          },
          "metadata": {},
          "execution_count": 9
        }
      ]
    },
    {
      "cell_type": "code",
      "source": [
        "padded=pad_sequences(sequences,maxlen=15,padding=\"pre\")"
      ],
      "metadata": {
        "id": "ir5WkMZI6s8i"
      },
      "execution_count": null,
      "outputs": []
    },
    {
      "cell_type": "code",
      "source": [
        "x=padded[:,:-1]\n",
        "y=padded[:,-1]"
      ],
      "metadata": {
        "id": "WYMLTp657Ckz"
      },
      "execution_count": null,
      "outputs": []
    },
    {
      "cell_type": "code",
      "source": [
        "print(y.shape)\n",
        "print(x.shape)"
      ],
      "metadata": {
        "colab": {
          "base_uri": "https://localhost:8080/"
        },
        "id": "y2bDalCz7LD1",
        "outputId": "cb0a85f5-d4aa-4c8a-ac9e-192c5365364e"
      },
      "execution_count": null,
      "outputs": [
        {
          "output_type": "stream",
          "name": "stdout",
          "text": [
            "(601,)\n",
            "(601, 14)\n"
          ]
        }
      ]
    },
    {
      "cell_type": "code",
      "source": [
        "len(tokenizer.word_index)"
      ],
      "metadata": {
        "colab": {
          "base_uri": "https://localhost:8080/"
        },
        "id": "nz5jnR4A7O9G",
        "outputId": "2a4646dd-bccd-49de-8853-57deab4f1310"
      },
      "execution_count": null,
      "outputs": [
        {
          "output_type": "execute_result",
          "data": {
            "text/plain": [
              "319"
            ]
          },
          "metadata": {},
          "execution_count": 13
        }
      ]
    },
    {
      "cell_type": "code",
      "source": [
        "from tensorflow.keras.utils import to_categorical"
      ],
      "metadata": {
        "id": "85s64xSs7YvY"
      },
      "execution_count": null,
      "outputs": []
    },
    {
      "cell_type": "code",
      "source": [
        "y=to_categorical(y)"
      ],
      "metadata": {
        "id": "9vyInYek76q7"
      },
      "execution_count": null,
      "outputs": []
    },
    {
      "cell_type": "code",
      "source": [
        "from tensorflow.keras.models import Sequential\n",
        "from tensorflow.keras.layers import LSTM,Dense,Input,Embedding"
      ],
      "metadata": {
        "id": "nvGD2KLB7_Bb"
      },
      "execution_count": null,
      "outputs": []
    },
    {
      "cell_type": "code",
      "source": [
        "model=Sequential()\n",
        "model.add(Input(shape=(14,)))\n",
        "model.add(Embedding(input_dim=320,output_dim=100))\n",
        "model.add(LSTM(128,return_sequences=True))\n",
        "model.add(LSTM(128))\n",
        "model.add(Dense(320,activation=\"softmax\"))"
      ],
      "metadata": {
        "id": "-vUNYj7e8GVd"
      },
      "execution_count": null,
      "outputs": []
    },
    {
      "cell_type": "code",
      "source": [
        "model.summary()"
      ],
      "metadata": {
        "colab": {
          "base_uri": "https://localhost:8080/"
        },
        "id": "IwXncaav84mk",
        "outputId": "876ed883-a203-443f-cdd9-bb0106eb4f16"
      },
      "execution_count": null,
      "outputs": [
        {
          "output_type": "stream",
          "name": "stdout",
          "text": [
            "Model: \"sequential\"\n",
            "_________________________________________________________________\n",
            " Layer (type)                Output Shape              Param #   \n",
            "=================================================================\n",
            " embedding (Embedding)       (None, 14, 100)           32000     \n",
            "                                                                 \n",
            " lstm (LSTM)                 (None, 14, 128)           117248    \n",
            "                                                                 \n",
            " lstm_1 (LSTM)               (None, 128)               131584    \n",
            "                                                                 \n",
            " dense (Dense)               (None, 320)               41280     \n",
            "                                                                 \n",
            "=================================================================\n",
            "Total params: 322112 (1.23 MB)\n",
            "Trainable params: 322112 (1.23 MB)\n",
            "Non-trainable params: 0 (0.00 Byte)\n",
            "_________________________________________________________________\n"
          ]
        }
      ]
    },
    {
      "cell_type": "code",
      "source": [
        "model.compile(optimizer=\"adam\",loss=\"categorical_crossentropy\",metrics=[\"accuracy\"])"
      ],
      "metadata": {
        "id": "GdpgB4rM-VRp"
      },
      "execution_count": null,
      "outputs": []
    },
    {
      "cell_type": "code",
      "source": [
        "model.fit(x,y,epochs=100)"
      ],
      "metadata": {
        "colab": {
          "base_uri": "https://localhost:8080/"
        },
        "id": "wCh9syuo-eKJ",
        "outputId": "865b4882-0dd8-4906-fcd0-3669e7d905a4"
      },
      "execution_count": null,
      "outputs": [
        {
          "output_type": "stream",
          "name": "stdout",
          "text": [
            "Epoch 1/100\n",
            "19/19 [==============================] - 9s 59ms/step - loss: 5.6162 - accuracy: 0.0948\n",
            "Epoch 2/100\n",
            "19/19 [==============================] - 1s 51ms/step - loss: 5.0462 - accuracy: 0.0998\n",
            "Epoch 3/100\n",
            "19/19 [==============================] - 1s 57ms/step - loss: 4.9212 - accuracy: 0.0998\n",
            "Epoch 4/100\n",
            "19/19 [==============================] - 1s 52ms/step - loss: 4.8866 - accuracy: 0.0998\n",
            "Epoch 5/100\n",
            "19/19 [==============================] - 1s 51ms/step - loss: 4.8634 - accuracy: 0.0998\n",
            "Epoch 6/100\n",
            "19/19 [==============================] - 1s 50ms/step - loss: 4.7788 - accuracy: 0.1032\n",
            "Epoch 7/100\n",
            "19/19 [==============================] - 1s 53ms/step - loss: 4.6437 - accuracy: 0.1215\n",
            "Epoch 8/100\n",
            "19/19 [==============================] - 1s 54ms/step - loss: 4.4614 - accuracy: 0.1431\n",
            "Epoch 9/100\n",
            "19/19 [==============================] - 1s 53ms/step - loss: 4.3222 - accuracy: 0.1481\n",
            "Epoch 10/100\n",
            "19/19 [==============================] - 1s 77ms/step - loss: 4.1495 - accuracy: 0.1514\n",
            "Epoch 11/100\n",
            "19/19 [==============================] - 2s 97ms/step - loss: 4.0100 - accuracy: 0.1681\n",
            "Epoch 12/100\n",
            "19/19 [==============================] - 2s 84ms/step - loss: 3.8760 - accuracy: 0.2013\n",
            "Epoch 13/100\n",
            "19/19 [==============================] - 1s 53ms/step - loss: 3.7391 - accuracy: 0.2213\n",
            "Epoch 14/100\n",
            "19/19 [==============================] - 1s 51ms/step - loss: 3.6458 - accuracy: 0.2429\n",
            "Epoch 15/100\n",
            "19/19 [==============================] - 1s 52ms/step - loss: 3.5515 - accuracy: 0.2646\n",
            "Epoch 16/100\n",
            "19/19 [==============================] - 1s 54ms/step - loss: 3.4645 - accuracy: 0.2779\n",
            "Epoch 17/100\n",
            "19/19 [==============================] - 1s 52ms/step - loss: 3.3784 - accuracy: 0.3078\n",
            "Epoch 18/100\n",
            "19/19 [==============================] - 1s 51ms/step - loss: 3.3309 - accuracy: 0.3062\n",
            "Epoch 19/100\n",
            "19/19 [==============================] - 1s 51ms/step - loss: 3.2917 - accuracy: 0.3078\n",
            "Epoch 20/100\n",
            "19/19 [==============================] - 1s 49ms/step - loss: 3.2047 - accuracy: 0.3378\n",
            "Epoch 21/100\n",
            "19/19 [==============================] - 1s 52ms/step - loss: 3.1369 - accuracy: 0.3428\n",
            "Epoch 22/100\n",
            "19/19 [==============================] - 1s 62ms/step - loss: 3.0791 - accuracy: 0.3361\n",
            "Epoch 23/100\n",
            "19/19 [==============================] - 2s 99ms/step - loss: 3.0314 - accuracy: 0.3411\n",
            "Epoch 24/100\n",
            "19/19 [==============================] - 2s 91ms/step - loss: 2.9837 - accuracy: 0.3594\n",
            "Epoch 25/100\n",
            "19/19 [==============================] - 1s 54ms/step - loss: 2.9449 - accuracy: 0.3544\n",
            "Epoch 26/100\n",
            "19/19 [==============================] - 1s 52ms/step - loss: 2.8873 - accuracy: 0.3677\n",
            "Epoch 27/100\n",
            "19/19 [==============================] - 1s 56ms/step - loss: 2.8527 - accuracy: 0.3760\n",
            "Epoch 28/100\n",
            "19/19 [==============================] - 1s 53ms/step - loss: 2.7931 - accuracy: 0.3877\n",
            "Epoch 29/100\n",
            "19/19 [==============================] - 1s 54ms/step - loss: 2.7607 - accuracy: 0.3977\n",
            "Epoch 30/100\n",
            "19/19 [==============================] - 1s 54ms/step - loss: 2.7233 - accuracy: 0.4077\n",
            "Epoch 31/100\n",
            "19/19 [==============================] - 1s 54ms/step - loss: 2.6722 - accuracy: 0.4126\n",
            "Epoch 32/100\n",
            "19/19 [==============================] - 1s 55ms/step - loss: 2.6119 - accuracy: 0.4143\n",
            "Epoch 33/100\n",
            "19/19 [==============================] - 1s 55ms/step - loss: 2.5796 - accuracy: 0.4143\n",
            "Epoch 34/100\n",
            "19/19 [==============================] - 2s 86ms/step - loss: 2.5459 - accuracy: 0.4143\n",
            "Epoch 35/100\n",
            "19/19 [==============================] - 2s 102ms/step - loss: 2.5179 - accuracy: 0.4077\n",
            "Epoch 36/100\n",
            "19/19 [==============================] - 1s 76ms/step - loss: 2.4688 - accuracy: 0.4359\n",
            "Epoch 37/100\n",
            "19/19 [==============================] - 1s 53ms/step - loss: 2.4470 - accuracy: 0.4276\n",
            "Epoch 38/100\n",
            "19/19 [==============================] - 1s 52ms/step - loss: 2.4112 - accuracy: 0.4326\n",
            "Epoch 39/100\n",
            "19/19 [==============================] - 1s 51ms/step - loss: 2.3497 - accuracy: 0.4409\n",
            "Epoch 40/100\n",
            "19/19 [==============================] - 1s 65ms/step - loss: 2.3104 - accuracy: 0.4509\n",
            "Epoch 41/100\n",
            "19/19 [==============================] - 1s 59ms/step - loss: 2.2712 - accuracy: 0.4526\n",
            "Epoch 42/100\n",
            "19/19 [==============================] - 1s 53ms/step - loss: 2.2349 - accuracy: 0.4559\n",
            "Epoch 43/100\n",
            "19/19 [==============================] - 1s 51ms/step - loss: 2.3102 - accuracy: 0.4576\n",
            "Epoch 44/100\n",
            "19/19 [==============================] - 1s 52ms/step - loss: 2.2560 - accuracy: 0.4509\n",
            "Epoch 45/100\n",
            "19/19 [==============================] - 1s 53ms/step - loss: 2.1745 - accuracy: 0.4592\n",
            "Epoch 46/100\n",
            "19/19 [==============================] - 2s 96ms/step - loss: 2.1066 - accuracy: 0.4859\n",
            "Epoch 47/100\n",
            "19/19 [==============================] - 2s 103ms/step - loss: 2.0744 - accuracy: 0.4992\n",
            "Epoch 48/100\n",
            "19/19 [==============================] - 1s 65ms/step - loss: 2.0289 - accuracy: 0.5141\n",
            "Epoch 49/100\n",
            "19/19 [==============================] - 1s 57ms/step - loss: 1.9869 - accuracy: 0.5258\n",
            "Epoch 50/100\n",
            "19/19 [==============================] - 1s 58ms/step - loss: 1.9387 - accuracy: 0.5441\n",
            "Epoch 51/100\n",
            "19/19 [==============================] - 1s 56ms/step - loss: 1.8953 - accuracy: 0.5507\n",
            "Epoch 52/100\n",
            "19/19 [==============================] - 1s 58ms/step - loss: 1.8558 - accuracy: 0.5790\n",
            "Epoch 53/100\n",
            "19/19 [==============================] - 1s 56ms/step - loss: 1.8226 - accuracy: 0.5740\n",
            "Epoch 54/100\n",
            "19/19 [==============================] - 1s 56ms/step - loss: 1.7867 - accuracy: 0.5923\n",
            "Epoch 55/100\n",
            "19/19 [==============================] - 1s 54ms/step - loss: 1.7563 - accuracy: 0.6140\n",
            "Epoch 56/100\n",
            "19/19 [==============================] - 1s 52ms/step - loss: 1.7477 - accuracy: 0.5940\n",
            "Epoch 57/100\n",
            "19/19 [==============================] - 1s 76ms/step - loss: 1.7267 - accuracy: 0.6023\n",
            "Epoch 58/100\n",
            "19/19 [==============================] - 2s 105ms/step - loss: 1.7136 - accuracy: 0.5907\n",
            "Epoch 59/100\n",
            "19/19 [==============================] - 2s 87ms/step - loss: 1.6684 - accuracy: 0.6240\n",
            "Epoch 60/100\n",
            "19/19 [==============================] - 1s 52ms/step - loss: 1.6128 - accuracy: 0.6439\n",
            "Epoch 61/100\n",
            "19/19 [==============================] - 1s 53ms/step - loss: 1.5688 - accuracy: 0.6689\n",
            "Epoch 62/100\n",
            "19/19 [==============================] - 1s 53ms/step - loss: 1.5604 - accuracy: 0.6639\n",
            "Epoch 63/100\n",
            "19/19 [==============================] - 1s 55ms/step - loss: 1.5163 - accuracy: 0.6839\n",
            "Epoch 64/100\n",
            "19/19 [==============================] - 1s 53ms/step - loss: 1.4805 - accuracy: 0.6972\n",
            "Epoch 65/100\n",
            "19/19 [==============================] - 1s 54ms/step - loss: 1.4475 - accuracy: 0.7088\n",
            "Epoch 66/100\n",
            "19/19 [==============================] - 1s 53ms/step - loss: 1.4224 - accuracy: 0.7221\n",
            "Epoch 67/100\n",
            "19/19 [==============================] - 1s 54ms/step - loss: 1.3949 - accuracy: 0.7304\n",
            "Epoch 68/100\n",
            "19/19 [==============================] - 1s 54ms/step - loss: 1.3656 - accuracy: 0.7421\n",
            "Epoch 69/100\n",
            "19/19 [==============================] - 1s 78ms/step - loss: 1.3395 - accuracy: 0.7354\n",
            "Epoch 70/100\n",
            "19/19 [==============================] - 2s 100ms/step - loss: 1.3220 - accuracy: 0.7488\n",
            "Epoch 71/100\n",
            "19/19 [==============================] - 1s 71ms/step - loss: 1.3115 - accuracy: 0.7371\n",
            "Epoch 72/100\n",
            "19/19 [==============================] - 1s 54ms/step - loss: 1.2797 - accuracy: 0.7637\n",
            "Epoch 73/100\n",
            "19/19 [==============================] - 1s 53ms/step - loss: 1.2514 - accuracy: 0.7671\n",
            "Epoch 74/100\n",
            "19/19 [==============================] - 1s 53ms/step - loss: 1.2393 - accuracy: 0.7604\n",
            "Epoch 75/100\n",
            "19/19 [==============================] - 1s 54ms/step - loss: 1.2085 - accuracy: 0.7737\n",
            "Epoch 76/100\n",
            "19/19 [==============================] - 1s 54ms/step - loss: 1.2126 - accuracy: 0.7737\n",
            "Epoch 77/100\n",
            "19/19 [==============================] - 1s 54ms/step - loss: 1.2054 - accuracy: 0.7604\n",
            "Epoch 78/100\n",
            "19/19 [==============================] - 1s 55ms/step - loss: 1.2054 - accuracy: 0.7604\n",
            "Epoch 79/100\n",
            "19/19 [==============================] - 1s 54ms/step - loss: 1.1476 - accuracy: 0.7953\n",
            "Epoch 80/100\n",
            "19/19 [==============================] - 1s 54ms/step - loss: 1.1380 - accuracy: 0.7737\n",
            "Epoch 81/100\n",
            "19/19 [==============================] - 2s 93ms/step - loss: 1.0946 - accuracy: 0.7870\n",
            "Epoch 82/100\n",
            "19/19 [==============================] - 2s 104ms/step - loss: 1.0592 - accuracy: 0.8070\n",
            "Epoch 83/100\n",
            "19/19 [==============================] - 1s 55ms/step - loss: 1.0413 - accuracy: 0.8070\n",
            "Epoch 84/100\n",
            "19/19 [==============================] - 1s 52ms/step - loss: 1.0189 - accuracy: 0.8103\n",
            "Epoch 85/100\n",
            "19/19 [==============================] - 1s 54ms/step - loss: 1.0037 - accuracy: 0.8253\n",
            "Epoch 86/100\n",
            "19/19 [==============================] - 1s 55ms/step - loss: 0.9872 - accuracy: 0.8369\n",
            "Epoch 87/100\n",
            "19/19 [==============================] - 1s 54ms/step - loss: 0.9739 - accuracy: 0.8220\n",
            "Epoch 88/100\n",
            "19/19 [==============================] - 1s 54ms/step - loss: 0.9642 - accuracy: 0.8319\n",
            "Epoch 89/100\n",
            "19/19 [==============================] - 1s 54ms/step - loss: 0.9461 - accuracy: 0.8270\n",
            "Epoch 90/100\n",
            "19/19 [==============================] - 1s 55ms/step - loss: 0.9225 - accuracy: 0.8353\n",
            "Epoch 91/100\n",
            "19/19 [==============================] - 1s 54ms/step - loss: 0.9001 - accuracy: 0.8453\n",
            "Epoch 92/100\n",
            "19/19 [==============================] - 1s 63ms/step - loss: 0.8844 - accuracy: 0.8469\n",
            "Epoch 93/100\n",
            "19/19 [==============================] - 2s 101ms/step - loss: 0.8663 - accuracy: 0.8502\n",
            "Epoch 94/100\n",
            "19/19 [==============================] - 2s 94ms/step - loss: 0.8509 - accuracy: 0.8602\n",
            "Epoch 95/100\n",
            "19/19 [==============================] - 1s 54ms/step - loss: 0.8370 - accuracy: 0.8502\n",
            "Epoch 96/100\n",
            "19/19 [==============================] - 1s 53ms/step - loss: 0.8377 - accuracy: 0.8469\n",
            "Epoch 97/100\n",
            "19/19 [==============================] - 1s 54ms/step - loss: 0.8242 - accuracy: 0.8552\n",
            "Epoch 98/100\n",
            "19/19 [==============================] - 1s 54ms/step - loss: 0.7967 - accuracy: 0.8602\n",
            "Epoch 99/100\n",
            "19/19 [==============================] - 1s 54ms/step - loss: 0.7799 - accuracy: 0.8619\n",
            "Epoch 100/100\n",
            "19/19 [==============================] - 1s 53ms/step - loss: 0.7660 - accuracy: 0.8636\n"
          ]
        },
        {
          "output_type": "execute_result",
          "data": {
            "text/plain": [
              "<keras.src.callbacks.History at 0x7d9d4a2f4110>"
            ]
          },
          "metadata": {},
          "execution_count": 20
        }
      ]
    },
    {
      "cell_type": "code",
      "source": [
        "import numpy as np\n",
        "text=\"alibaba\"\n",
        "for i in range(10):\n",
        "  text=text.lower()\n",
        "  token_text=tokenizer.texts_to_sequences([text])\n",
        "  padd_text=pad_sequences(token_text,maxlen=14,padding=\"pre\")\n",
        "  index=np.argmax(model.predict(padd_text))\n",
        "  word=list(tokenizer.word_index.keys())[index-1]\n",
        "  text=text+\" \"+word\n",
        "  print(text)"
      ],
      "metadata": {
        "colab": {
          "base_uri": "https://localhost:8080/"
        },
        "id": "hdzL3yI8-kWR",
        "outputId": "861b3796-8121-4c09-d47f-6f14f0fc2c8b"
      },
      "execution_count": null,
      "outputs": [
        {
          "output_type": "stream",
          "name": "stdout",
          "text": [
            "1/1 [==============================] - 0s 34ms/step\n",
            "alibaba air\n",
            "1/1 [==============================] - 0s 27ms/step\n",
            "alibaba air k70\n",
            "1/1 [==============================] - 0s 25ms/step\n",
            "alibaba air k70 rgb\n",
            "1/1 [==============================] - 0s 25ms/step\n",
            "alibaba air k70 rgb mechanical\n",
            "1/1 [==============================] - 0s 27ms/step\n",
            "alibaba air k70 rgb mechanical gaming\n",
            "1/1 [==============================] - 0s 24ms/step\n",
            "alibaba air k70 rgb mechanical gaming keyboard\n",
            "1/1 [==============================] - 0s 24ms/step\n",
            "alibaba air k70 rgb mechanical gaming keyboard costs\n",
            "1/1 [==============================] - 0s 34ms/step\n",
            "alibaba air k70 rgb mechanical gaming keyboard costs ₨\n",
            "1/1 [==============================] - 0s 24ms/step\n",
            "alibaba air k70 rgb mechanical gaming keyboard costs ₨ 189\n",
            "1/1 [==============================] - 0s 25ms/step\n",
            "alibaba air k70 rgb mechanical gaming keyboard costs ₨ 189 000\n"
          ]
        }
      ]
    },
    {
      "cell_type": "code",
      "source": [
        "model.save(\"next_word_model.h5\")"
      ],
      "metadata": {
        "id": "FO_7VGc0W8Z0",
        "colab": {
          "base_uri": "https://localhost:8080/"
        },
        "outputId": "96a7d35d-053c-48cd-fb9c-5526b558b892"
      },
      "execution_count": null,
      "outputs": [
        {
          "output_type": "stream",
          "name": "stderr",
          "text": [
            "/usr/local/lib/python3.11/dist-packages/keras/src/engine/training.py:3000: UserWarning: You are saving your model as an HDF5 file via `model.save()`. This file format is considered legacy. We recommend using instead the native Keras format, e.g. `model.save('my_model.keras')`.\n",
            "  saving_api.save_model(\n"
          ]
        }
      ]
    },
    {
      "cell_type": "code",
      "source": [
        "import tf2onnx\n",
        "import tensorflow as tf\n",
        "input_sign=[tf.TensorSpec([None,14],tf.int32,name=\"input\")]\n"
      ],
      "metadata": {
        "id": "Ic08ntkquz7_"
      },
      "execution_count": null,
      "outputs": []
    },
    {
      "cell_type": "code",
      "source": [
        "onnx_model,_=tf2onnx.convert.from_keras(model,input_signature=input_sign,opset=13,output_path=\"next_word.onnx\")"
      ],
      "metadata": {
        "id": "QY5uD5ZMu8FT"
      },
      "execution_count": null,
      "outputs": []
    },
    {
      "cell_type": "code",
      "source": [
        "output_names=[m.name for m in onnx_model.graph.output]"
      ],
      "metadata": {
        "id": "FF1Ziubjv-8p"
      },
      "execution_count": null,
      "outputs": []
    },
    {
      "cell_type": "code",
      "source": [
        "output_names"
      ],
      "metadata": {
        "colab": {
          "base_uri": "https://localhost:8080/"
        },
        "id": "-81Xu36Rwk84",
        "outputId": "5b52f5ec-2c06-40df-c186-e7a05491544f"
      },
      "execution_count": null,
      "outputs": [
        {
          "output_type": "execute_result",
          "data": {
            "text/plain": [
              "['dense']"
            ]
          },
          "metadata": {},
          "execution_count": 40
        }
      ]
    },
    {
      "cell_type": "code",
      "source": [
        "onnx_model.graph.input"
      ],
      "metadata": {
        "colab": {
          "base_uri": "https://localhost:8080/"
        },
        "id": "ejWkyi0awrsf",
        "outputId": "a5cfc6e1-2a56-4224-d32f-8d0ef059b46e"
      },
      "execution_count": null,
      "outputs": [
        {
          "output_type": "execute_result",
          "data": {
            "text/plain": [
              "[name: \"input\"\n",
              "type {\n",
              "  tensor_type {\n",
              "    elem_type: 6\n",
              "    shape {\n",
              "      dim {\n",
              "        dim_param: \"unk__249\"\n",
              "      }\n",
              "      dim {\n",
              "        dim_value: 14\n",
              "      }\n",
              "    }\n",
              "  }\n",
              "}\n",
              "]"
            ]
          },
          "metadata": {},
          "execution_count": 42
        }
      ]
    },
    {
      "cell_type": "code",
      "source": [
        "import onnxruntime as rt\n",
        "onnx_model=rt.InferenceSession(\"next_word.onnx\",providers=['CPUExecutionProvider'])"
      ],
      "metadata": {
        "id": "mB_pdgaOvnAI"
      },
      "execution_count": null,
      "outputs": []
    },
    {
      "cell_type": "code",
      "source": [
        "onnx_model.run(output_names,{\"input\":[[0,0,0,0,0,0,0,0,0,0,0,0,0,14]]})"
      ],
      "metadata": {
        "colab": {
          "base_uri": "https://localhost:8080/"
        },
        "id": "ppNYGaUhvuPD",
        "outputId": "092cb22d-fc98-4bda-8f5b-562c6b20cfe8"
      },
      "execution_count": null,
      "outputs": [
        {
          "output_type": "execute_result",
          "data": {
            "text/plain": [
              "[array([[3.47401101e-06, 8.92204480e-06, 8.41308179e-07, 3.00281954e-05,\n",
              "         1.37668030e-04, 1.78218543e-04, 5.79345397e-05, 4.16654584e-05,\n",
              "         1.54226989e-04, 1.05175575e-04, 8.32212754e-05, 3.39510552e-06,\n",
              "         3.20341064e-06, 4.02124715e-04, 8.34437233e-05, 7.18576621e-06,\n",
              "         5.43602164e-06, 7.94584863e-03, 1.83305892e-05, 2.25720316e-04,\n",
              "         6.11772703e-05, 3.82227081e-05, 1.40550209e-03, 3.64440610e-04,\n",
              "         4.15417278e-04, 1.28537882e-03, 1.08131513e-04, 1.89284366e-02,\n",
              "         5.64241607e-04, 9.73249043e-05, 5.64548136e-05, 1.46784703e-04,\n",
              "         1.07062297e-05, 3.12255317e-04, 4.88169826e-05, 2.52484915e-05,\n",
              "         2.21082228e-04, 4.89677943e-04, 7.81905185e-03, 4.69083852e-06,\n",
              "         8.55980252e-05, 9.75641524e-05, 9.39800666e-05, 1.03139173e-05,\n",
              "         1.54057583e-02, 3.09314550e-04, 1.96301189e-05, 4.26090883e-05,\n",
              "         1.93692351e-04, 2.09045538e-04, 2.79427622e-04, 4.77446338e-05,\n",
              "         8.76025224e-05, 5.35016716e-06, 1.84721925e-04, 5.23960298e-05,\n",
              "         4.85822355e-04, 2.74599570e-05, 7.21547985e-05, 1.51433545e-04,\n",
              "         1.05868785e-04, 5.04165813e-02, 3.83330253e-03, 4.15986360e-05,\n",
              "         6.42470608e-04, 1.10028423e-02, 1.85437471e-04, 1.78408067e-04,\n",
              "         6.83891722e-06, 5.60006360e-03, 2.68416712e-04, 1.86206926e-05,\n",
              "         3.46740271e-05, 1.03618520e-04, 1.95003202e-04, 3.84579966e-04,\n",
              "         3.29159724e-04, 4.40988893e-04, 3.60189551e-05, 5.77727187e-05,\n",
              "         7.81392492e-03, 4.18725940e-05, 5.83324640e-04, 2.03745585e-05,\n",
              "         5.08444803e-03, 1.56468464e-04, 2.22671442e-05, 2.11061870e-05,\n",
              "         3.15958954e-04, 1.43544865e-04, 1.44194382e-05, 1.67635953e-04,\n",
              "         3.29238028e-05, 1.23109319e-04, 3.42629892e-06, 9.36706056e-05,\n",
              "         3.79608246e-05, 5.66699091e-05, 1.23877870e-02, 1.68374658e-03,\n",
              "         2.39713863e-03, 3.12687225e-05, 3.05538106e-06, 6.67076977e-03,\n",
              "         2.88468800e-06, 5.75600234e-06, 1.85531753e-05, 6.20979627e-05,\n",
              "         3.75200878e-03, 1.35164580e-03, 2.73532132e-05, 1.89572211e-06,\n",
              "         7.90648535e-02, 1.61877630e-04, 4.28046442e-05, 1.51085169e-05,\n",
              "         7.10579939e-03, 1.28163593e-02, 5.49959659e-05, 1.56982176e-04,\n",
              "         2.92857862e-06, 1.09874725e-03, 2.18690024e-03, 3.15056735e-04,\n",
              "         3.32604104e-05, 5.19650093e-05, 4.23786137e-03, 1.03706855e-03,\n",
              "         1.94397417e-05, 2.31514605e-06, 2.85163096e-05, 5.70211432e-06,\n",
              "         6.43327076e-05, 4.34333831e-03, 5.04809490e-04, 1.55608795e-04,\n",
              "         1.14463801e-04, 1.79298760e-04, 8.01470224e-03, 1.86327467e-04,\n",
              "         2.56105734e-04, 8.32214791e-05, 5.95515048e-05, 1.24856917e-04,\n",
              "         2.05828519e-06, 5.23718481e-04, 1.11786940e-03, 4.38650651e-03,\n",
              "         2.49818061e-02, 3.73495300e-03, 2.62451649e-05, 5.99164341e-05,\n",
              "         7.29842344e-03, 6.18594233e-03, 3.32301803e-04, 3.40711355e-04,\n",
              "         1.32313391e-04, 6.35706019e-05, 6.97482703e-03, 8.87330994e-03,\n",
              "         2.20802522e-05, 8.21683425e-05, 5.17274672e-03, 5.15635882e-04,\n",
              "         3.43737745e-04, 1.71362815e-04, 2.28211979e-06, 4.11514044e-02,\n",
              "         1.30816188e-03, 5.12514380e-05, 3.11776512e-06, 5.76470957e-05,\n",
              "         1.50398642e-04, 2.95117070e-06, 1.41902529e-02, 1.14929346e-04,\n",
              "         2.11612496e-05, 1.06010120e-05, 7.42005697e-03, 7.40317701e-05,\n",
              "         1.29959983e-04, 1.23076621e-04, 5.65072009e-03, 6.71643007e-04,\n",
              "         2.65720137e-05, 3.75586069e-06, 9.55033898e-02, 4.90069251e-05,\n",
              "         1.24996013e-05, 2.67633777e-06, 3.68892588e-03, 1.67588471e-04,\n",
              "         3.69087434e-06, 2.45588715e-04, 8.08461891e-07, 2.03618629e-06,\n",
              "         1.16021896e-03, 3.06504691e-04, 4.04704653e-04, 5.86899769e-05,\n",
              "         1.09232489e-04, 4.06183608e-06, 6.57510990e-03, 3.95572046e-03,\n",
              "         4.63608280e-03, 2.94041383e-04, 4.20777906e-05, 1.81124706e-04,\n",
              "         5.41707873e-03, 2.68159783e-03, 9.69725661e-05, 3.86556552e-04,\n",
              "         3.49782058e-04, 1.10058718e-05, 1.59255447e-04, 2.69262418e-05,\n",
              "         2.67355590e-05, 3.78358982e-06, 8.27761542e-05, 3.05365818e-03,\n",
              "         1.55303779e-03, 3.05859794e-05, 4.30782438e-06, 4.31710109e-02,\n",
              "         1.13687376e-02, 3.11594922e-04, 8.28736665e-05, 5.80633350e-05,\n",
              "         4.33345744e-03, 8.82526438e-05, 1.01645513e-04, 4.44524767e-06,\n",
              "         6.53550327e-02, 6.97241630e-04, 1.29178676e-04, 5.88375900e-04,\n",
              "         6.93618085e-06, 2.49715168e-02, 1.00048841e-04, 7.38990959e-04,\n",
              "         1.00462792e-04, 2.76934679e-05, 5.32671220e-06, 1.11065991e-03,\n",
              "         1.79609124e-05, 1.88673384e-05, 3.77878268e-06, 9.46378859e-04,\n",
              "         8.63481895e-04, 4.41265933e-04, 8.32808204e-04, 8.07159631e-06,\n",
              "         7.36718066e-05, 2.58417949e-05, 6.84648985e-05, 8.92581604e-03,\n",
              "         5.84586582e-04, 1.66768259e-05, 1.65092479e-05, 4.43579984e-06,\n",
              "         6.25408502e-05, 4.71370913e-06, 9.72866789e-02, 5.24540315e-04,\n",
              "         2.08981655e-05, 3.46255342e-06, 3.13975923e-02, 2.63051875e-03,\n",
              "         4.37334529e-05, 3.50536720e-06, 2.21103313e-04, 1.68071274e-05,\n",
              "         5.47205610e-03, 6.07915339e-04, 6.21814570e-06, 1.25675651e-05,\n",
              "         5.26462463e-06, 3.98489574e-05, 3.49621951e-06, 3.42669926e-04,\n",
              "         2.54585349e-04, 4.40854164e-05, 2.37317613e-06, 5.66370327e-05,\n",
              "         4.32562338e-05, 7.83264637e-03, 5.07700279e-05, 2.87457101e-06,\n",
              "         1.49360439e-02, 1.29502837e-03, 5.34538367e-06, 3.99217606e-06,\n",
              "         4.02290199e-04, 3.29684326e-06, 1.16693409e-04, 2.11271123e-04,\n",
              "         2.60891364e-04, 6.86270045e-03, 2.71588360e-05, 2.68153835e-05,\n",
              "         4.49120898e-06, 2.86172763e-05, 2.79703704e-06, 5.25378346e-05,\n",
              "         2.42775805e-05, 8.50257871e-04, 7.01418263e-04, 1.55750949e-05,\n",
              "         4.73689943e-06, 2.39037909e-02, 1.26808381e-03, 2.62562808e-05,\n",
              "         1.06645159e-04, 3.10321207e-06, 1.22760757e-04, 5.61078923e-05,\n",
              "         8.34203674e-05, 3.08074868e-06, 6.22773096e-02, 2.84166254e-05]],\n",
              "       dtype=float32)]"
            ]
          },
          "metadata": {},
          "execution_count": 48
        }
      ]
    },
    {
      "cell_type": "code",
      "source": [
        "import json\n",
        "with open(\"tokenz_next_word.json\",\"w\")as file:\n",
        "  json.dump(tokenizer.word_index,file)"
      ],
      "metadata": {
        "id": "YFpvFej6vzMT"
      },
      "execution_count": null,
      "outputs": []
    },
    {
      "cell_type": "code",
      "source": [],
      "metadata": {
        "id": "8dO9hLIzxkjV"
      },
      "execution_count": null,
      "outputs": []
    }
  ]
}